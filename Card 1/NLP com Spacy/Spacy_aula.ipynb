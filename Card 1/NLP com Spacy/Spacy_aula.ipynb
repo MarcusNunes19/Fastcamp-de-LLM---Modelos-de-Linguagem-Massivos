{
  "nbformat": 4,
  "nbformat_minor": 0,
  "metadata": {
    "colab": {
      "provenance": []
    },
    "kernelspec": {
      "name": "python3",
      "display_name": "Python 3"
    },
    "language_info": {
      "name": "python"
    }
  },
  "cells": [
    {
      "cell_type": "markdown",
      "source": [
        "# Instalando o modelo\n"
      ],
      "metadata": {
        "id": "KhUTwCtI2A0Y"
      }
    },
    {
      "cell_type": "code",
      "source": [
        "!python -m spacy download 'pt_core_news_lg'"
      ],
      "metadata": {
        "colab": {
          "base_uri": "https://localhost:8080/"
        },
        "id": "9290MybbCbVf",
        "outputId": "c62b42d7-4dec-4abf-938c-b9b28f88de4c"
      },
      "execution_count": 1,
      "outputs": [
        {
          "output_type": "stream",
          "name": "stdout",
          "text": [
            "Collecting pt-core-news-lg==3.7.0\n",
            "  Downloading https://github.com/explosion/spacy-models/releases/download/pt_core_news_lg-3.7.0/pt_core_news_lg-3.7.0-py3-none-any.whl (568.2 MB)\n",
            "\u001b[2K     \u001b[90m━━━━━━━━━━━━━━━━━━━━━━━━━━━━━━━━━━━━━━━━\u001b[0m \u001b[32m568.2/568.2 MB\u001b[0m \u001b[31m1.1 MB/s\u001b[0m eta \u001b[36m0:00:00\u001b[0m\n",
            "\u001b[?25hRequirement already satisfied: spacy<3.8.0,>=3.7.0 in /usr/local/lib/python3.11/dist-packages (from pt-core-news-lg==3.7.0) (3.7.5)\n",
            "Requirement already satisfied: spacy-legacy<3.1.0,>=3.0.11 in /usr/local/lib/python3.11/dist-packages (from spacy<3.8.0,>=3.7.0->pt-core-news-lg==3.7.0) (3.0.12)\n",
            "Requirement already satisfied: spacy-loggers<2.0.0,>=1.0.0 in /usr/local/lib/python3.11/dist-packages (from spacy<3.8.0,>=3.7.0->pt-core-news-lg==3.7.0) (1.0.5)\n",
            "Requirement already satisfied: murmurhash<1.1.0,>=0.28.0 in /usr/local/lib/python3.11/dist-packages (from spacy<3.8.0,>=3.7.0->pt-core-news-lg==3.7.0) (1.0.12)\n",
            "Requirement already satisfied: cymem<2.1.0,>=2.0.2 in /usr/local/lib/python3.11/dist-packages (from spacy<3.8.0,>=3.7.0->pt-core-news-lg==3.7.0) (2.0.11)\n",
            "Requirement already satisfied: preshed<3.1.0,>=3.0.2 in /usr/local/lib/python3.11/dist-packages (from spacy<3.8.0,>=3.7.0->pt-core-news-lg==3.7.0) (3.0.9)\n",
            "Requirement already satisfied: thinc<8.3.0,>=8.2.2 in /usr/local/lib/python3.11/dist-packages (from spacy<3.8.0,>=3.7.0->pt-core-news-lg==3.7.0) (8.2.5)\n",
            "Requirement already satisfied: wasabi<1.2.0,>=0.9.1 in /usr/local/lib/python3.11/dist-packages (from spacy<3.8.0,>=3.7.0->pt-core-news-lg==3.7.0) (1.1.3)\n",
            "Requirement already satisfied: srsly<3.0.0,>=2.4.3 in /usr/local/lib/python3.11/dist-packages (from spacy<3.8.0,>=3.7.0->pt-core-news-lg==3.7.0) (2.5.1)\n",
            "Requirement already satisfied: catalogue<2.1.0,>=2.0.6 in /usr/local/lib/python3.11/dist-packages (from spacy<3.8.0,>=3.7.0->pt-core-news-lg==3.7.0) (2.0.10)\n",
            "Requirement already satisfied: weasel<0.5.0,>=0.1.0 in /usr/local/lib/python3.11/dist-packages (from spacy<3.8.0,>=3.7.0->pt-core-news-lg==3.7.0) (0.4.1)\n",
            "Requirement already satisfied: typer<1.0.0,>=0.3.0 in /usr/local/lib/python3.11/dist-packages (from spacy<3.8.0,>=3.7.0->pt-core-news-lg==3.7.0) (0.15.1)\n",
            "Requirement already satisfied: tqdm<5.0.0,>=4.38.0 in /usr/local/lib/python3.11/dist-packages (from spacy<3.8.0,>=3.7.0->pt-core-news-lg==3.7.0) (4.67.1)\n",
            "Requirement already satisfied: requests<3.0.0,>=2.13.0 in /usr/local/lib/python3.11/dist-packages (from spacy<3.8.0,>=3.7.0->pt-core-news-lg==3.7.0) (2.32.3)\n",
            "Requirement already satisfied: pydantic!=1.8,!=1.8.1,<3.0.0,>=1.7.4 in /usr/local/lib/python3.11/dist-packages (from spacy<3.8.0,>=3.7.0->pt-core-news-lg==3.7.0) (2.10.6)\n",
            "Requirement already satisfied: jinja2 in /usr/local/lib/python3.11/dist-packages (from spacy<3.8.0,>=3.7.0->pt-core-news-lg==3.7.0) (3.1.5)\n",
            "Requirement already satisfied: setuptools in /usr/local/lib/python3.11/dist-packages (from spacy<3.8.0,>=3.7.0->pt-core-news-lg==3.7.0) (75.1.0)\n",
            "Requirement already satisfied: packaging>=20.0 in /usr/local/lib/python3.11/dist-packages (from spacy<3.8.0,>=3.7.0->pt-core-news-lg==3.7.0) (24.2)\n",
            "Requirement already satisfied: langcodes<4.0.0,>=3.2.0 in /usr/local/lib/python3.11/dist-packages (from spacy<3.8.0,>=3.7.0->pt-core-news-lg==3.7.0) (3.5.0)\n",
            "Requirement already satisfied: numpy>=1.19.0 in /usr/local/lib/python3.11/dist-packages (from spacy<3.8.0,>=3.7.0->pt-core-news-lg==3.7.0) (1.26.4)\n",
            "Requirement already satisfied: language-data>=1.2 in /usr/local/lib/python3.11/dist-packages (from langcodes<4.0.0,>=3.2.0->spacy<3.8.0,>=3.7.0->pt-core-news-lg==3.7.0) (1.3.0)\n",
            "Requirement already satisfied: annotated-types>=0.6.0 in /usr/local/lib/python3.11/dist-packages (from pydantic!=1.8,!=1.8.1,<3.0.0,>=1.7.4->spacy<3.8.0,>=3.7.0->pt-core-news-lg==3.7.0) (0.7.0)\n",
            "Requirement already satisfied: pydantic-core==2.27.2 in /usr/local/lib/python3.11/dist-packages (from pydantic!=1.8,!=1.8.1,<3.0.0,>=1.7.4->spacy<3.8.0,>=3.7.0->pt-core-news-lg==3.7.0) (2.27.2)\n",
            "Requirement already satisfied: typing-extensions>=4.12.2 in /usr/local/lib/python3.11/dist-packages (from pydantic!=1.8,!=1.8.1,<3.0.0,>=1.7.4->spacy<3.8.0,>=3.7.0->pt-core-news-lg==3.7.0) (4.12.2)\n",
            "Requirement already satisfied: charset-normalizer<4,>=2 in /usr/local/lib/python3.11/dist-packages (from requests<3.0.0,>=2.13.0->spacy<3.8.0,>=3.7.0->pt-core-news-lg==3.7.0) (3.4.1)\n",
            "Requirement already satisfied: idna<4,>=2.5 in /usr/local/lib/python3.11/dist-packages (from requests<3.0.0,>=2.13.0->spacy<3.8.0,>=3.7.0->pt-core-news-lg==3.7.0) (3.10)\n",
            "Requirement already satisfied: urllib3<3,>=1.21.1 in /usr/local/lib/python3.11/dist-packages (from requests<3.0.0,>=2.13.0->spacy<3.8.0,>=3.7.0->pt-core-news-lg==3.7.0) (2.3.0)\n",
            "Requirement already satisfied: certifi>=2017.4.17 in /usr/local/lib/python3.11/dist-packages (from requests<3.0.0,>=2.13.0->spacy<3.8.0,>=3.7.0->pt-core-news-lg==3.7.0) (2025.1.31)\n",
            "Requirement already satisfied: blis<0.8.0,>=0.7.8 in /usr/local/lib/python3.11/dist-packages (from thinc<8.3.0,>=8.2.2->spacy<3.8.0,>=3.7.0->pt-core-news-lg==3.7.0) (0.7.11)\n",
            "Requirement already satisfied: confection<1.0.0,>=0.0.1 in /usr/local/lib/python3.11/dist-packages (from thinc<8.3.0,>=8.2.2->spacy<3.8.0,>=3.7.0->pt-core-news-lg==3.7.0) (0.1.5)\n",
            "Requirement already satisfied: click>=8.0.0 in /usr/local/lib/python3.11/dist-packages (from typer<1.0.0,>=0.3.0->spacy<3.8.0,>=3.7.0->pt-core-news-lg==3.7.0) (8.1.8)\n",
            "Requirement already satisfied: shellingham>=1.3.0 in /usr/local/lib/python3.11/dist-packages (from typer<1.0.0,>=0.3.0->spacy<3.8.0,>=3.7.0->pt-core-news-lg==3.7.0) (1.5.4)\n",
            "Requirement already satisfied: rich>=10.11.0 in /usr/local/lib/python3.11/dist-packages (from typer<1.0.0,>=0.3.0->spacy<3.8.0,>=3.7.0->pt-core-news-lg==3.7.0) (13.9.4)\n",
            "Requirement already satisfied: cloudpathlib<1.0.0,>=0.7.0 in /usr/local/lib/python3.11/dist-packages (from weasel<0.5.0,>=0.1.0->spacy<3.8.0,>=3.7.0->pt-core-news-lg==3.7.0) (0.20.0)\n",
            "Requirement already satisfied: smart-open<8.0.0,>=5.2.1 in /usr/local/lib/python3.11/dist-packages (from weasel<0.5.0,>=0.1.0->spacy<3.8.0,>=3.7.0->pt-core-news-lg==3.7.0) (7.1.0)\n",
            "Requirement already satisfied: MarkupSafe>=2.0 in /usr/local/lib/python3.11/dist-packages (from jinja2->spacy<3.8.0,>=3.7.0->pt-core-news-lg==3.7.0) (3.0.2)\n",
            "Requirement already satisfied: marisa-trie>=1.1.0 in /usr/local/lib/python3.11/dist-packages (from language-data>=1.2->langcodes<4.0.0,>=3.2.0->spacy<3.8.0,>=3.7.0->pt-core-news-lg==3.7.0) (1.2.1)\n",
            "Requirement already satisfied: markdown-it-py>=2.2.0 in /usr/local/lib/python3.11/dist-packages (from rich>=10.11.0->typer<1.0.0,>=0.3.0->spacy<3.8.0,>=3.7.0->pt-core-news-lg==3.7.0) (3.0.0)\n",
            "Requirement already satisfied: pygments<3.0.0,>=2.13.0 in /usr/local/lib/python3.11/dist-packages (from rich>=10.11.0->typer<1.0.0,>=0.3.0->spacy<3.8.0,>=3.7.0->pt-core-news-lg==3.7.0) (2.18.0)\n",
            "Requirement already satisfied: wrapt in /usr/local/lib/python3.11/dist-packages (from smart-open<8.0.0,>=5.2.1->weasel<0.5.0,>=0.1.0->spacy<3.8.0,>=3.7.0->pt-core-news-lg==3.7.0) (1.17.2)\n",
            "Requirement already satisfied: mdurl~=0.1 in /usr/local/lib/python3.11/dist-packages (from markdown-it-py>=2.2.0->rich>=10.11.0->typer<1.0.0,>=0.3.0->spacy<3.8.0,>=3.7.0->pt-core-news-lg==3.7.0) (0.1.2)\n",
            "Installing collected packages: pt-core-news-lg\n",
            "Successfully installed pt-core-news-lg-3.7.0\n",
            "\u001b[38;5;2m✔ Download and installation successful\u001b[0m\n",
            "You can now load the package via spacy.load('pt_core_news_lg')\n",
            "\u001b[38;5;3m⚠ Restart to reload dependencies\u001b[0m\n",
            "If you are in a Jupyter or Colab notebook, you may need to restart Python in\n",
            "order to load all the package's dependencies. You can do this by selecting the\n",
            "'Restart kernel' or 'Restart runtime' option.\n"
          ]
        }
      ]
    },
    {
      "cell_type": "markdown",
      "source": [
        "# Tinkering with Spacy"
      ],
      "metadata": {
        "id": "6BWj4mDO2Xx8"
      }
    },
    {
      "cell_type": "code",
      "source": [
        "import spacy"
      ],
      "metadata": {
        "id": "mloCElijCoCT"
      },
      "execution_count": 2,
      "outputs": []
    },
    {
      "cell_type": "code",
      "source": [
        "nlp = spacy.load('pt_core_news_lg')"
      ],
      "metadata": {
        "id": "hx9TGGee2fvD"
      },
      "execution_count": 3,
      "outputs": []
    },
    {
      "cell_type": "code",
      "source": [
        "print(type(nlp))"
      ],
      "metadata": {
        "colab": {
          "base_uri": "https://localhost:8080/"
        },
        "id": "kE20fM2c2l7U",
        "outputId": "08dd9deb-df8e-4a50-dabb-b91287a941e2"
      },
      "execution_count": 4,
      "outputs": [
        {
          "output_type": "stream",
          "name": "stdout",
          "text": [
            "<class 'spacy.lang.pt.Portuguese'>\n"
          ]
        }
      ]
    },
    {
      "cell_type": "code",
      "source": [
        "#By calling this method I can check all the steps that are in the pipeline and make part of it\n",
        "\n",
        "print(nlp.pipe_names)"
      ],
      "metadata": {
        "colab": {
          "base_uri": "https://localhost:8080/"
        },
        "id": "1NWfZcX229yT",
        "outputId": "4e10567b-272e-4c56-ce7b-f2a312860d56"
      },
      "execution_count": 5,
      "outputs": [
        {
          "output_type": "stream",
          "name": "stdout",
          "text": [
            "['tok2vec', 'morphologizer', 'parser', 'lemmatizer', 'attribute_ruler', 'ner']\n"
          ]
        }
      ]
    },
    {
      "cell_type": "code",
      "source": [
        "document = nlp(\"Hoje de noite decidi gastar mais de 20 reais com jogos no Brasil, gastei menos de 20% do meu salário então não me incomodou muito. A Inglaterra é melhor\")\n",
        "document2 = nlp(\"Alegaçõese extraordinárias requerem evidências extraordinárias. Carl Sagan: 'https://carlsagan.com'\")"
      ],
      "metadata": {
        "id": "Uzo8-LVv3dlh"
      },
      "execution_count": 6,
      "outputs": []
    },
    {
      "cell_type": "code",
      "source": [
        "len(document.vocab)"
      ],
      "metadata": {
        "colab": {
          "base_uri": "https://localhost:8080/"
        },
        "id": "m18yEegx3dn7",
        "outputId": "defc921d-87c6-4b39-d17d-30650b65cd77"
      },
      "execution_count": 7,
      "outputs": [
        {
          "output_type": "execute_result",
          "data": {
            "text/plain": [
              "384"
            ]
          },
          "metadata": {},
          "execution_count": 7
        }
      ]
    },
    {
      "cell_type": "code",
      "source": [
        "print(type(document))"
      ],
      "metadata": {
        "colab": {
          "base_uri": "https://localhost:8080/"
        },
        "id": "xjYVlQnL3bhu",
        "outputId": "daba4aad-3aeb-409b-8bab-43cbaa7979f9"
      },
      "execution_count": 8,
      "outputs": [
        {
          "output_type": "stream",
          "name": "stdout",
          "text": [
            "<class 'spacy.tokens.doc.Doc'>\n"
          ]
        }
      ]
    },
    {
      "cell_type": "code",
      "source": [
        "for token in document:\n",
        "  print(token.text)"
      ],
      "metadata": {
        "id": "Worbxp_F4V04",
        "colab": {
          "base_uri": "https://localhost:8080/"
        },
        "outputId": "446fff3e-22fc-4b55-b594-a34e159b8cbb"
      },
      "execution_count": 9,
      "outputs": [
        {
          "output_type": "stream",
          "name": "stdout",
          "text": [
            "Hoje\n",
            "de\n",
            "noite\n",
            "decidi\n",
            "gastar\n",
            "mais\n",
            "de\n",
            "20\n",
            "reais\n",
            "com\n",
            "jogos\n",
            "no\n",
            "Brasil\n",
            ",\n",
            "gastei\n",
            "menos\n",
            "de\n",
            "20\n",
            "%\n",
            "do\n",
            "meu\n",
            "salário\n",
            "então\n",
            "não\n",
            "me\n",
            "incomodou\n",
            "muito\n",
            ".\n",
            "A\n",
            "Inglaterra\n",
            "é\n",
            "melhor\n"
          ]
        }
      ]
    },
    {
      "cell_type": "code",
      "source": [
        "#By calling some methods I can check if a certain token fits a certain property\n",
        "\n",
        "print(\"Tokens:\", [token.text for token in document])\n",
        "print(\"Stop word:\",[token.is_stop for token in document])\n",
        "print(\"Alfanumérico:\", [token.is_alpha for token in document])\n",
        "print(\"Maiúsculo:\",[token.is_upper for token in document])\n",
        "print(\"Minúsculo:\",[token.is_lower for token in document] )"
      ],
      "metadata": {
        "id": "4iy_bie97uMj",
        "colab": {
          "base_uri": "https://localhost:8080/"
        },
        "outputId": "356edd9d-9681-4ce6-e680-3812275e42fa"
      },
      "execution_count": 10,
      "outputs": [
        {
          "output_type": "stream",
          "name": "stdout",
          "text": [
            "Tokens: ['Hoje', 'de', 'noite', 'decidi', 'gastar', 'mais', 'de', '20', 'reais', 'com', 'jogos', 'no', 'Brasil', ',', 'gastei', 'menos', 'de', '20', '%', 'do', 'meu', 'salário', 'então', 'não', 'me', 'incomodou', 'muito', '.', 'A', 'Inglaterra', 'é', 'melhor']\n",
            "Stop word: [False, True, False, False, False, True, True, False, False, True, False, True, False, False, False, True, True, False, False, True, True, False, True, True, True, False, True, False, True, False, True, False]\n",
            "Alfanumérico: [True, True, True, True, True, True, True, False, True, True, True, True, True, False, True, True, True, False, False, True, True, True, True, True, True, True, True, False, True, True, True, True]\n",
            "Maiúsculo: [False, False, False, False, False, False, False, False, False, False, False, False, False, False, False, False, False, False, False, False, False, False, False, False, False, False, False, False, True, False, False, False]\n",
            "Minúsculo: [False, True, True, True, True, True, True, False, True, True, True, True, False, False, True, True, True, False, False, True, True, True, True, True, True, True, True, False, False, False, True, True]\n"
          ]
        }
      ]
    },
    {
      "cell_type": "code",
      "source": [
        "print(\"Tokens:\", [token.text for token in document])\n",
        "print(\"Formato:\",[token.shape_ for token in document])"
      ],
      "metadata": {
        "colab": {
          "base_uri": "https://localhost:8080/"
        },
        "id": "80FQmIip9qb2",
        "outputId": "46efd2e8-3ad2-4286-b7cd-56d95ebea760"
      },
      "execution_count": 11,
      "outputs": [
        {
          "output_type": "stream",
          "name": "stdout",
          "text": [
            "Tokens: ['Hoje', 'de', 'noite', 'decidi', 'gastar', 'mais', 'de', '20', 'reais', 'com', 'jogos', 'no', 'Brasil', ',', 'gastei', 'menos', 'de', '20', '%', 'do', 'meu', 'salário', 'então', 'não', 'me', 'incomodou', 'muito', '.', 'A', 'Inglaterra', 'é', 'melhor']\n",
            "Formato: ['Xxxx', 'xx', 'xxxx', 'xxxx', 'xxxx', 'xxxx', 'xx', 'dd', 'xxxx', 'xxx', 'xxxx', 'xx', 'Xxxxx', ',', 'xxxx', 'xxxx', 'xx', 'dd', '%', 'xx', 'xxx', 'xxxx', 'xxxx', 'xxx', 'xx', 'xxxx', 'xxxx', '.', 'X', 'Xxxxx', 'x', 'xxxx']\n"
          ]
        }
      ]
    },
    {
      "cell_type": "code",
      "source": [
        "for token in document:\n",
        "  if token.like_num:\n",
        "    print(\"Número encontrado:\", token.text)\n",
        "  if token.is_punct:\n",
        "    print(\"Pontuação foi encontrada:\", token.text)"
      ],
      "metadata": {
        "colab": {
          "base_uri": "https://localhost:8080/"
        },
        "id": "2qAxR1bk_WwP",
        "outputId": "0f64482b-7f15-45d0-f7c5-9202ccbc8471"
      },
      "execution_count": 12,
      "outputs": [
        {
          "output_type": "stream",
          "name": "stdout",
          "text": [
            "Número encontrado: 20\n",
            "Pontuação foi encontrada: ,\n",
            "Número encontrado: 20\n",
            "Pontuação foi encontrada: %\n",
            "Pontuação foi encontrada: .\n"
          ]
        }
      ]
    },
    {
      "cell_type": "markdown",
      "source": [
        "# Checking Pos-Taggin for each Token"
      ],
      "metadata": {
        "id": "ZWhg48qwCciL"
      }
    },
    {
      "cell_type": "code",
      "source": [
        "for token in document:\n",
        "  print(token.text, \" - \", token.pos_, \" - \", token.dep_, \" - \",token.lemma_,\" - \", token.shape_)"
      ],
      "metadata": {
        "colab": {
          "base_uri": "https://localhost:8080/"
        },
        "id": "dNTBqUx4Aevj",
        "outputId": "f6d7b7f6-f741-4edd-adae-244212301bfa"
      },
      "execution_count": 13,
      "outputs": [
        {
          "output_type": "stream",
          "name": "stdout",
          "text": [
            "Hoje  -  NOUN  -  nsubj  -  hoje  -  Xxxx\n",
            "de  -  ADP  -  case  -  de  -  xx\n",
            "noite  -  NOUN  -  nmod  -  noite  -  xxxx\n",
            "decidi  -  VERB  -  ROOT  -  decidir  -  xxxx\n",
            "gastar  -  VERB  -  xcomp  -  gastar  -  xxxx\n",
            "mais  -  ADV  -  advmod  -  mais  -  xxxx\n",
            "de  -  ADP  -  fixed  -  de  -  xx\n",
            "20  -  NUM  -  nummod  -  20  -  dd\n",
            "reais  -  NOUN  -  obj  -  real  -  xxxx\n",
            "com  -  ADP  -  case  -  com  -  xxx\n",
            "jogos  -  NOUN  -  obl  -  jogo  -  xxxx\n",
            "no  -  ADP  -  case  -  em o  -  xx\n",
            "Brasil  -  PROPN  -  obl  -  Brasil  -  Xxxxx\n",
            ",  -  PUNCT  -  punct  -  ,  -  ,\n",
            "gastei  -  VERB  -  parataxis  -  gastar  -  xxxx\n",
            "menos  -  ADV  -  advmod  -  menos  -  xxxx\n",
            "de  -  ADP  -  fixed  -  de  -  xx\n",
            "20  -  NUM  -  nummod  -  20  -  dd\n",
            "%  -  SYM  -  nsubj  -  %  -  %\n",
            "do  -  ADP  -  case  -  de o  -  xx\n",
            "meu  -  DET  -  det  -  meu  -  xxx\n",
            "salário  -  NOUN  -  nmod  -  salário  -  xxxx\n",
            "então  -  ADV  -  advmod  -  então  -  xxxx\n",
            "não  -  ADV  -  advmod  -  não  -  xxx\n",
            "me  -  PRON  -  obj  -  eu  -  xx\n",
            "incomodou  -  VERB  -  ccomp  -  incomodar  -  xxxx\n",
            "muito  -  ADV  -  advmod  -  muito  -  xxxx\n",
            ".  -  PUNCT  -  punct  -  .  -  .\n",
            "A  -  DET  -  det  -  o  -  X\n",
            "Inglaterra  -  PROPN  -  nsubj  -  Inglaterra  -  Xxxxx\n",
            "é  -  AUX  -  cop  -  ser  -  x\n",
            "melhor  -  ADV  -  ROOT  -  bom  -  xxxx\n"
          ]
        }
      ]
    },
    {
      "cell_type": "code",
      "source": [
        "for token in document:\n",
        "  print(token.text, \" - \", token.morph)"
      ],
      "metadata": {
        "colab": {
          "base_uri": "https://localhost:8080/"
        },
        "id": "o7Xs1E5ICvg6",
        "outputId": "43c50524-3fe3-4d6e-ce54-233fae3681a3"
      },
      "execution_count": 14,
      "outputs": [
        {
          "output_type": "stream",
          "name": "stdout",
          "text": [
            "Hoje  -  Gender=Masc|Number=Sing\n",
            "de  -  \n",
            "noite  -  Gender=Fem|Number=Sing\n",
            "decidi  -  Mood=Ind|Number=Sing|Person=1|Tense=Past|VerbForm=Fin\n",
            "gastar  -  VerbForm=Inf\n",
            "mais  -  \n",
            "de  -  \n",
            "20  -  NumType=Card\n",
            "reais  -  Gender=Masc|Number=Plur\n",
            "com  -  \n",
            "jogos  -  Gender=Masc|Number=Plur\n",
            "no  -  Definite=Def|Gender=Masc|Number=Sing|PronType=Art\n",
            "Brasil  -  Gender=Masc|Number=Sing\n",
            ",  -  \n",
            "gastei  -  Mood=Ind|Number=Sing|Person=1|Tense=Past|VerbForm=Fin\n",
            "menos  -  \n",
            "de  -  \n",
            "20  -  NumType=Card\n",
            "%  -  \n",
            "do  -  Definite=Def|Gender=Masc|Number=Sing|PronType=Art\n",
            "meu  -  Gender=Masc|Number=Sing|PronType=Prs\n",
            "salário  -  Gender=Masc|Number=Sing\n",
            "então  -  \n",
            "não  -  Polarity=Neg\n",
            "me  -  Case=Acc|Number=Sing|Person=1|PronType=Prs\n",
            "incomodou  -  Mood=Ind|Number=Sing|Person=3|Tense=Past|VerbForm=Fin\n",
            "muito  -  \n",
            ".  -  \n",
            "A  -  Definite=Def|Gender=Fem|Number=Sing|PronType=Art\n",
            "Inglaterra  -  Gender=Fem|Number=Sing\n",
            "é  -  Mood=Ind|Number=Sing|Person=3|Tense=Pres|VerbForm=Fin\n",
            "melhor  -  \n"
          ]
        }
      ]
    },
    {
      "cell_type": "code",
      "source": [
        "for token in document:\n",
        "  print(token.text, \" - \", token.tag_)"
      ],
      "metadata": {
        "colab": {
          "base_uri": "https://localhost:8080/"
        },
        "id": "hIuQnKaEDvmM",
        "outputId": "144db93c-29e8-4ad5-ab0d-c5382e1dcd42"
      },
      "execution_count": 15,
      "outputs": [
        {
          "output_type": "stream",
          "name": "stdout",
          "text": [
            "Hoje  -  NOUN\n",
            "de  -  ADP\n",
            "noite  -  NOUN\n",
            "decidi  -  VERB\n",
            "gastar  -  VERB\n",
            "mais  -  ADV\n",
            "de  -  ADP\n",
            "20  -  NUM\n",
            "reais  -  NOUN\n",
            "com  -  ADP\n",
            "jogos  -  NOUN\n",
            "no  -  ADP\n",
            "Brasil  -  PROPN\n",
            ",  -  PUNCT\n",
            "gastei  -  VERB\n",
            "menos  -  ADV\n",
            "de  -  ADP\n",
            "20  -  NUM\n",
            "%  -  SYM\n",
            "do  -  ADP\n",
            "meu  -  DET\n",
            "salário  -  NOUN\n",
            "então  -  ADV\n",
            "não  -  ADV\n",
            "me  -  PRON\n",
            "incomodou  -  VERB\n",
            "muito  -  ADV\n",
            ".  -  PUNCT\n",
            "A  -  DET\n",
            "Inglaterra  -  PROPN\n",
            "é  -  AUX\n",
            "melhor  -  ADV\n"
          ]
        }
      ]
    },
    {
      "cell_type": "code",
      "source": [
        "for token in document.ents:\n",
        "  print(token.text, \" - \", token.label_)"
      ],
      "metadata": {
        "colab": {
          "base_uri": "https://localhost:8080/"
        },
        "id": "1_mMp_rTD8jV",
        "outputId": "01250b88-8374-421e-e0a4-5c1cf6f7b1a7"
      },
      "execution_count": 16,
      "outputs": [
        {
          "output_type": "stream",
          "name": "stdout",
          "text": [
            "Brasil  -  LOC\n",
            "Inglaterra  -  LOC\n"
          ]
        }
      ]
    },
    {
      "cell_type": "code",
      "source": [
        "#each word contains a hash associated with them\n",
        "\n",
        "print(\"Hash:\", nlp.vocab.strings[\"jogos\"])\n",
        "print(\"Hash:\", document.vocab.strings[\"jogos\"])\n",
        "print(\"String: \", nlp.vocab.strings[6841378219212148181])"
      ],
      "metadata": {
        "colab": {
          "base_uri": "https://localhost:8080/"
        },
        "id": "4Mr9hjlUG5Gd",
        "outputId": "9b7453dd-bd42-47fe-ae1a-c2dee0147785"
      },
      "execution_count": 17,
      "outputs": [
        {
          "output_type": "stream",
          "name": "stdout",
          "text": [
            "Hash: 6841378219212148181\n",
            "Hash: 6841378219212148181\n",
            "String:  jogos\n"
          ]
        }
      ]
    },
    {
      "cell_type": "code",
      "source": [
        "lex = nlp.vocab[\"jogos\"]\n",
        "print(lex.text, \" - \", lex.orth, \" - \", lex.is_alpha, \" - \", lex.is_lower)"
      ],
      "metadata": {
        "id": "iMg7Vrj8HWrl",
        "colab": {
          "base_uri": "https://localhost:8080/"
        },
        "outputId": "9c2fddf5-b8db-4aca-bca9-074136fb9648"
      },
      "execution_count": 18,
      "outputs": [
        {
          "output_type": "stream",
          "name": "stdout",
          "text": [
            "jogos  -  6841378219212148181  -  True  -  True\n"
          ]
        }
      ]
    },
    {
      "cell_type": "code",
      "source": [
        "# Here we can see an array of the word jogos that contains 300 positions, each one having the\n",
        "  # the weight of the relation between the word \"jogos\" and other words\n",
        "\n",
        "#print(nlp(\"jogos\").vector.shape)\n",
        "#print(nlp(\"jogos\").vector)\n",
        "print(nlp(\"Jogos são uma forma de diversão\").vector)"
      ],
      "metadata": {
        "colab": {
          "base_uri": "https://localhost:8080/"
        },
        "id": "uS3QbfHNNicH",
        "outputId": "6a31300e-0c11-4aad-d0f0-8984ea0ff62d"
      },
      "execution_count": 19,
      "outputs": [
        {
          "output_type": "stream",
          "name": "stdout",
          "text": [
            "[-6.26371682e-01  7.53940046e-01 -9.99884903e-01 -2.15685010e-01\n",
            " -3.30518341e+00 -1.05553508e+00 -1.74581337e+00 -8.57631683e-01\n",
            " -1.70849836e+00 -2.47769856e+00  2.46715832e+00 -8.24998379e-01\n",
            " -6.66923821e-01 -1.19468653e+00 -6.02441669e-01 -6.24018371e-01\n",
            "  3.84109187e+00 -1.13850117e-01  3.93196672e-01  2.66921997e+00\n",
            " -3.15501094e-02  1.92950916e+00 -1.78865826e+00  1.20178497e+00\n",
            " -9.21918333e-01  5.32518327e-01 -1.17646682e+00  1.39303172e+00\n",
            "  3.59618306e-01  2.40519667e+00  1.15996170e+00  6.57083392e-01\n",
            " -1.87657344e+00 -1.71210337e+00 -5.55233359e-01 -7.11803377e-01\n",
            " -1.88409841e+00  5.06295025e-01 -1.27618325e+00  4.68621701e-01\n",
            " -1.23836660e+00  1.06369674e+00  1.08828175e+00 -6.34733260e-01\n",
            " -1.20403337e+00  1.26681161e+00 -1.27050841e+00 -1.30483508e-03\n",
            "  7.62399971e-01 -6.97830021e-01 -1.50058329e+00 -3.04674506e+00\n",
            " -7.09488213e-01 -5.98704994e-01  5.91916621e-01 -2.07407311e-01\n",
            "  1.00342000e+00 -1.23674355e-01  1.12359500e+00 -9.06366646e-01\n",
            "  1.06526005e+00 -1.01519251e+00 -6.99434936e-01  2.41890025e+00\n",
            " -1.80495098e-01  1.37261593e+00  4.58350368e-02  2.68676662e+00\n",
            " -1.26633361e-01  8.40394795e-01 -1.72516000e+00 -5.41311681e-01\n",
            "  1.12823331e+00  4.87296611e-01 -5.89111626e-01 -1.41859934e-01\n",
            "  1.96833670e+00 -8.68083239e-01 -1.31781638e-01  4.63403314e-01\n",
            "  4.41483259e-02 -6.76282823e-01  2.22356722e-01  5.88499963e-01\n",
            " -1.90983331e+00 -1.70177996e+00 -7.46533334e-01 -1.38813782e+00\n",
            "  1.01070511e+00 -2.07923317e+00 -4.43716235e-02  1.96815348e+00\n",
            "  2.69947505e+00 -8.50414991e-01 -7.63133392e-02  7.96951711e-01\n",
            "  1.93521321e+00  1.21419990e+00 -1.22890830e+00 -1.04483831e+00\n",
            "  7.98266590e-01  2.58196652e-01 -1.81958342e+00 -2.84276634e-01\n",
            "  9.80786800e-01 -1.15407443e+00 -1.36748827e+00 -1.09336853e+00\n",
            "  3.52440834e-01 -1.23753347e-01 -2.98100024e-01 -1.43928334e-01\n",
            " -5.24458349e-01 -9.20436561e-01 -9.16038454e-01 -1.04526508e+00\n",
            "  1.95762670e+00  3.35214972e-01  7.86079645e-01  9.85988379e-01\n",
            "  1.50467551e+00 -3.05987906e+00 -4.17313337e-01  3.45816702e-01\n",
            "  1.85277665e+00 -6.39431536e-01  3.12651658e+00  4.22041655e-01\n",
            " -1.04514158e+00  1.98226166e+00  1.56271136e+00 -1.32244989e-01\n",
            "  1.30018008e+00  7.14941680e-01  1.04519331e+00  5.69804609e-01\n",
            " -1.08413994e+00 -2.45284057e+00 -8.01007688e-01  8.27549994e-01\n",
            " -2.18151665e+00  8.99969637e-02 -4.68163341e-01  2.34249964e-01\n",
            " -3.43707490e+00 -1.29519984e-01  9.72456694e-01  5.91283321e-01\n",
            " -1.40626180e+00  4.50798273e-01  8.24876606e-01 -1.18792999e+00\n",
            " -5.36811769e-01 -1.14120829e+00 -7.80381620e-01 -6.95546687e-01\n",
            "  3.69354397e-01 -8.14949989e-01 -1.47273827e+00 -1.25592673e+00\n",
            "  1.10847878e+00  2.08767676e+00 -1.52371168e+00 -3.92549962e-01\n",
            "  2.93663311e+00  3.89170051e-02  1.90918458e+00 -1.17182672e+00\n",
            " -9.57245052e-01 -1.39374986e-01  5.64723313e-01 -5.98736703e-01\n",
            "  6.17466688e-01 -2.71209985e-01 -1.51307678e+00 -7.66946614e-01\n",
            "  2.05641341e+00  6.69925034e-01 -1.67227995e+00  3.14935470e+00\n",
            "  7.32514918e-01  1.51150000e+00  2.31936693e+00  1.32345665e+00\n",
            "  2.46561670e+00  2.60723293e-01  1.10256505e+00 -1.59216654e+00\n",
            "  1.17208505e+00  4.77656722e-01 -2.81401664e-01 -9.61616755e-01\n",
            " -1.17774832e+00 -2.14479160e+00  1.24610555e+00  1.07155003e-01\n",
            "  3.79068375e-01 -2.18475652e+00 -7.62521684e-01 -1.20119345e+00\n",
            " -2.39194179e+00  8.59334946e-01 -2.58934349e-01  1.29063451e+00\n",
            " -9.24466550e-02 -4.87783402e-01  1.04384005e+00 -1.77761328e+00\n",
            "  6.72071636e-01 -7.69816697e-01  1.68587339e+00 -1.83469677e+00\n",
            "  2.39661837e+00  1.34965169e+00 -3.22876692e-01  1.37999856e+00\n",
            "  4.12833303e-01  1.24569975e-01  1.29169500e+00  1.22018330e-01\n",
            " -1.31292737e+00 -9.70920026e-01  4.40856725e-01 -1.35523021e+00\n",
            "  7.80833140e-02  7.65933335e-01  5.96650057e-02 -5.27643323e-01\n",
            "  1.21640003e+00 -1.67636681e+00  5.80081582e-01 -1.75435007e+00\n",
            " -7.57621586e-01 -2.59500742e-02 -1.66696990e+00  2.07060024e-01\n",
            " -1.38660812e+00 -1.70464671e+00  4.75208312e-01  1.75398171e+00\n",
            " -1.35496661e-01 -1.49851179e+00 -7.68075228e-01  1.58879995e+00\n",
            " -4.40283298e-01 -3.40900868e-01 -1.05491495e+00  1.91382325e+00\n",
            "  1.55453336e+00 -7.08333254e-01 -1.65731335e+00 -9.53741610e-01\n",
            "  2.94696599e-01  1.37384176e+00 -3.31201643e-01 -5.90359986e-01\n",
            " -1.10860670e+00  2.92011666e+00 -4.58398342e-01 -1.90411672e-01\n",
            " -2.23020983e+00  4.84143257e-01  2.15692496e+00 -3.75899784e-02\n",
            "  3.84550005e-01  5.82563341e-01 -7.21813381e-01  1.64272642e+00\n",
            "  1.00742662e+00  2.38784671e+00  3.97518992e+00 -3.07506680e-01\n",
            "  4.11994867e-02  2.85722828e+00 -1.52809513e+00  1.02066386e+00\n",
            "  1.28976500e+00  3.04108167e+00 -2.04211637e-01 -1.21723998e+00\n",
            " -2.67036152e+00 -7.66918361e-01  3.21988368e+00 -8.47061813e-01\n",
            "  4.47600037e-01  1.41329825e+00 -1.73372173e+00  3.52655023e-01\n",
            "  5.47933280e-01 -5.68881691e-01 -4.21938330e-01  4.55061674e+00\n",
            " -2.11868358e+00 -3.21228337e+00  3.98040026e-01 -1.55336666e+00\n",
            "  1.33410013e+00 -1.96702337e+00 -9.72329319e-01  2.42474484e+00]\n"
          ]
        }
      ]
    },
    {
      "cell_type": "markdown",
      "source": [
        "# Similarity Finder\n",
        "\n",
        "## A similarity finder can tell me level of similarity between two sentences\n"
      ],
      "metadata": {
        "id": "O2x_sewWPoUp"
      }
    },
    {
      "cell_type": "code",
      "source": [
        "newdocument = nlp(\"Ele gosta muito de comer macarrão\")\n",
        "newdocument2 = nlp(\"Ela gosta muito de comer macarrão\")\n",
        "\n",
        "#The level of similarity here is pretty high, the only difference here is the word \"Ele\"\n",
        "print(newdocument.similarity(newdocument2))"
      ],
      "metadata": {
        "colab": {
          "base_uri": "https://localhost:8080/"
        },
        "id": "3g1wDOjVOKc7",
        "outputId": "5af91ba1-bc6c-4356-aa1a-ed8af02295de"
      },
      "execution_count": 20,
      "outputs": [
        {
          "output_type": "stream",
          "name": "stdout",
          "text": [
            "0.9586358242850286\n"
          ]
        }
      ]
    },
    {
      "cell_type": "code",
      "source": [
        "# We can even get the similarity between two tokens\n",
        "\n",
        "document3 = nlp(\"A palavra é comprimento ou cumprimento?\")\n",
        "tokenA = document3[3]\n",
        "print(tokenA)\n",
        "tokenB = document3[5]\n",
        "print(tokenB)\n",
        "print(tokenA.similarity(tokenB))"
      ],
      "metadata": {
        "colab": {
          "base_uri": "https://localhost:8080/"
        },
        "id": "KPw-dtxtRIXd",
        "outputId": "1cfacd3c-59f5-49b4-c310-0e4d7da88cf9"
      },
      "execution_count": 21,
      "outputs": [
        {
          "output_type": "stream",
          "name": "stdout",
          "text": [
            "comprimento\n",
            "cumprimento\n",
            "0.5804340243339539\n"
          ]
        }
      ]
    },
    {
      "cell_type": "markdown",
      "source": [
        "# **Matching, finding patterns**"
      ],
      "metadata": {
        "id": "LPk5bISJWM5k"
      }
    },
    {
      "cell_type": "code",
      "source": [
        "from typing import Match\n",
        "from spacy.matcher import Matcher\n",
        "\n",
        "document4 = nlp(\"Você pode ligar para (51) - 9964656570 ou (11) 12344988\")\n",
        "\n",
        "matcher = Matcher (nlp.vocab)\n",
        "pattern = [{\"ORTH\": \"(\"}, {\"SHAPE\":\"dd\"}, {\"ORTH\": \")\"}, {\"ORTH\": \"-\", \"OP\": \"?\"}, {\"IS_DIGIT\": True}]\n",
        "matcher.add(\"telefone\", [pattern])\n",
        "matches = matcher(document4)\n",
        "for id, inicio, fim in matches:\n",
        "  print(document4[inicio:fim])"
      ],
      "metadata": {
        "colab": {
          "base_uri": "https://localhost:8080/"
        },
        "id": "UV_ldTMgTJZF",
        "outputId": "cfd6bb06-bb50-4919-8480-8242161f0515"
      },
      "execution_count": 22,
      "outputs": [
        {
          "output_type": "stream",
          "name": "stdout",
          "text": [
            "(51) - 9964656570\n",
            "(11) 12344988\n"
          ]
        }
      ]
    },
    {
      "cell_type": "code",
      "source": [
        "document5 = nlp(\"Estamos infectados com micro organismos. MICROORGANISMOS são perigosos. Não exergamos micro-organismos\")\n",
        "mathcer = Matcher(nlp.vocab)\n",
        "padrão1 = [{\"LOWER\": \"micro-organismos\"}]\n",
        "padrão2 = [{\"LOWER\": \"microorganismos\"}]\n",
        "padrão3 = [{\"LOWER\": \"micro\"}, {\"LOWER\": \"organismos\"}]\n",
        "\n",
        "matcher.add(\"padrão\", [padrão1, padrão2, padrão3])\n",
        "\n",
        "matches = matcher(document5)\n",
        "for id, inicio, fim in matches:\n",
        "  print(document5[inicio:fim])"
      ],
      "metadata": {
        "colab": {
          "base_uri": "https://localhost:8080/"
        },
        "id": "KA8Jhh93bnaA",
        "outputId": "4156d3bb-75c0-4db3-e79a-caecb0236a0d"
      },
      "execution_count": 23,
      "outputs": [
        {
          "output_type": "stream",
          "name": "stdout",
          "text": [
            "micro organismos\n",
            "MICROORGANISMOS\n",
            "micro-organismos\n"
          ]
        }
      ]
    },
    {
      "cell_type": "markdown",
      "source": [
        "# **Displacy - It's a module for displaying in Spacy**"
      ],
      "metadata": {
        "id": "cVuawY6nFv5-"
      }
    },
    {
      "cell_type": "code",
      "source": [
        "from spacy import displacy\n",
        "\n",
        "displacy.render(document, style=\"ent\", jupyter= True)"
      ],
      "metadata": {
        "id": "NjBbhILaf3Ng",
        "colab": {
          "base_uri": "https://localhost:8080/",
          "height": 87
        },
        "outputId": "01843157-7de3-427d-eed6-8971b413247d"
      },
      "execution_count": 24,
      "outputs": [
        {
          "output_type": "display_data",
          "data": {
            "text/plain": [
              "<IPython.core.display.HTML object>"
            ],
            "text/html": [
              "<span class=\"tex2jax_ignore\"><div class=\"entities\" style=\"line-height: 2.5; direction: ltr\">Hoje de noite decidi gastar mais de 20 reais com jogos no \n",
              "<mark class=\"entity\" style=\"background: #ff9561; padding: 0.45em 0.6em; margin: 0 0.25em; line-height: 1; border-radius: 0.35em;\">\n",
              "    Brasil\n",
              "    <span style=\"font-size: 0.8em; font-weight: bold; line-height: 1; border-radius: 0.35em; vertical-align: middle; margin-left: 0.5rem\">LOC</span>\n",
              "</mark>\n",
              ", gastei menos de 20% do meu salário então não me incomodou muito. A \n",
              "<mark class=\"entity\" style=\"background: #ff9561; padding: 0.45em 0.6em; margin: 0 0.25em; line-height: 1; border-radius: 0.35em;\">\n",
              "    Inglaterra\n",
              "    <span style=\"font-size: 0.8em; font-weight: bold; line-height: 1; border-radius: 0.35em; vertical-align: middle; margin-left: 0.5rem\">LOC</span>\n",
              "</mark>\n",
              " é melhor</div></span>"
            ]
          },
          "metadata": {}
        }
      ]
    },
    {
      "cell_type": "code",
      "source": [
        "displacy.render(document2, style=\"ent\",jupyter= True)"
      ],
      "metadata": {
        "colab": {
          "base_uri": "https://localhost:8080/",
          "height": 87
        },
        "id": "O3jHEsxPG1Ch",
        "outputId": "c6b35b36-046e-45c9-f4c1-3503350e6c33"
      },
      "execution_count": 25,
      "outputs": [
        {
          "output_type": "display_data",
          "data": {
            "text/plain": [
              "<IPython.core.display.HTML object>"
            ],
            "text/html": [
              "<span class=\"tex2jax_ignore\"><div class=\"entities\" style=\"line-height: 2.5; direction: ltr\">\n",
              "<mark class=\"entity\" style=\"background: #7aecec; padding: 0.45em 0.6em; margin: 0 0.25em; line-height: 1; border-radius: 0.35em;\">\n",
              "    Alegaçõese\n",
              "    <span style=\"font-size: 0.8em; font-weight: bold; line-height: 1; border-radius: 0.35em; vertical-align: middle; margin-left: 0.5rem\">ORG</span>\n",
              "</mark>\n",
              " extraordinárias requerem evidências extraordinárias. \n",
              "<mark class=\"entity\" style=\"background: #ddd; padding: 0.45em 0.6em; margin: 0 0.25em; line-height: 1; border-radius: 0.35em;\">\n",
              "    Carl Sagan\n",
              "    <span style=\"font-size: 0.8em; font-weight: bold; line-height: 1; border-radius: 0.35em; vertical-align: middle; margin-left: 0.5rem\">PER</span>\n",
              "</mark>\n",
              ": '\n",
              "<mark class=\"entity\" style=\"background: #ddd; padding: 0.45em 0.6em; margin: 0 0.25em; line-height: 1; border-radius: 0.35em;\">\n",
              "    https://carlsagan.com\n",
              "    <span style=\"font-size: 0.8em; font-weight: bold; line-height: 1; border-radius: 0.35em; vertical-align: middle; margin-left: 0.5rem\">MISC</span>\n",
              "</mark>\n",
              "'</div></span>"
            ]
          },
          "metadata": {}
        }
      ]
    },
    {
      "cell_type": "code",
      "source": [
        "document2.user_data['title'] = \"Exemplo\"\n",
        "\n",
        "displacy.render(document2, style=\"dep\",jupyter= True, options ={'compact': False, 'distance': 160, 'color': '#000FF' })"
      ],
      "metadata": {
        "colab": {
          "base_uri": "https://localhost:8080/",
          "height": 337
        },
        "id": "CvyNgn3mG-B6",
        "outputId": "8c6c8908-6517-411c-b290-b502e03dc0b5"
      },
      "execution_count": 26,
      "outputs": [
        {
          "output_type": "display_data",
          "data": {
            "text/plain": [
              "<IPython.core.display.HTML object>"
            ],
            "text/html": [
              "<span class=\"tex2jax_ignore\"><svg xmlns=\"http://www.w3.org/2000/svg\" xmlns:xlink=\"http://www.w3.org/1999/xlink\" xml:lang=\"pt\" id=\"fb63cda8c6764bbebb964a3e12a089c8-0\" class=\"displacy\" width=\"1330\" height=\"297.0\" direction=\"ltr\" style=\"max-width: none; height: 297.0px; color: #000FF; background: #ffffff; font-family: Arial; direction: ltr\">\n",
              "<text class=\"displacy-token\" fill=\"currentColor\" text-anchor=\"middle\" y=\"207.0\">\n",
              "    <tspan class=\"displacy-word\" fill=\"currentColor\" x=\"50\">Alegaçõese</tspan>\n",
              "    <tspan class=\"displacy-tag\" dy=\"2em\" fill=\"currentColor\" x=\"50\">NOUN</tspan>\n",
              "</text>\n",
              "\n",
              "<text class=\"displacy-token\" fill=\"currentColor\" text-anchor=\"middle\" y=\"207.0\">\n",
              "    <tspan class=\"displacy-word\" fill=\"currentColor\" x=\"210\">extraordinárias</tspan>\n",
              "    <tspan class=\"displacy-tag\" dy=\"2em\" fill=\"currentColor\" x=\"210\">ADJ</tspan>\n",
              "</text>\n",
              "\n",
              "<text class=\"displacy-token\" fill=\"currentColor\" text-anchor=\"middle\" y=\"207.0\">\n",
              "    <tspan class=\"displacy-word\" fill=\"currentColor\" x=\"370\">requerem</tspan>\n",
              "    <tspan class=\"displacy-tag\" dy=\"2em\" fill=\"currentColor\" x=\"370\">VERB</tspan>\n",
              "</text>\n",
              "\n",
              "<text class=\"displacy-token\" fill=\"currentColor\" text-anchor=\"middle\" y=\"207.0\">\n",
              "    <tspan class=\"displacy-word\" fill=\"currentColor\" x=\"530\">evidências</tspan>\n",
              "    <tspan class=\"displacy-tag\" dy=\"2em\" fill=\"currentColor\" x=\"530\">NOUN</tspan>\n",
              "</text>\n",
              "\n",
              "<text class=\"displacy-token\" fill=\"currentColor\" text-anchor=\"middle\" y=\"207.0\">\n",
              "    <tspan class=\"displacy-word\" fill=\"currentColor\" x=\"690\">extraordinárias.</tspan>\n",
              "    <tspan class=\"displacy-tag\" dy=\"2em\" fill=\"currentColor\" x=\"690\">ADJ</tspan>\n",
              "</text>\n",
              "\n",
              "<text class=\"displacy-token\" fill=\"currentColor\" text-anchor=\"middle\" y=\"207.0\">\n",
              "    <tspan class=\"displacy-word\" fill=\"currentColor\" x=\"850\">Carl</tspan>\n",
              "    <tspan class=\"displacy-tag\" dy=\"2em\" fill=\"currentColor\" x=\"850\">PROPN</tspan>\n",
              "</text>\n",
              "\n",
              "<text class=\"displacy-token\" fill=\"currentColor\" text-anchor=\"middle\" y=\"207.0\">\n",
              "    <tspan class=\"displacy-word\" fill=\"currentColor\" x=\"1010\">Sagan: '</tspan>\n",
              "    <tspan class=\"displacy-tag\" dy=\"2em\" fill=\"currentColor\" x=\"1010\">PROPN</tspan>\n",
              "</text>\n",
              "\n",
              "<text class=\"displacy-token\" fill=\"currentColor\" text-anchor=\"middle\" y=\"207.0\">\n",
              "    <tspan class=\"displacy-word\" fill=\"currentColor\" x=\"1170\">https://carlsagan.com'</tspan>\n",
              "    <tspan class=\"displacy-tag\" dy=\"2em\" fill=\"currentColor\" x=\"1170\">ADP</tspan>\n",
              "</text>\n",
              "\n",
              "<g class=\"displacy-arrow\">\n",
              "    <path class=\"displacy-arc\" id=\"arrow-fb63cda8c6764bbebb964a3e12a089c8-0-0\" stroke-width=\"2px\" d=\"M70,162.0 C70,2.0 370.0,2.0 370.0,162.0\" fill=\"none\" stroke=\"currentColor\"/>\n",
              "    <text dy=\"1.25em\" style=\"font-size: 0.8em; letter-spacing: 1px\">\n",
              "        <textPath xlink:href=\"#arrow-fb63cda8c6764bbebb964a3e12a089c8-0-0\" class=\"displacy-label\" startOffset=\"50%\" side=\"left\" fill=\"currentColor\" text-anchor=\"middle\">nsubj</textPath>\n",
              "    </text>\n",
              "    <path class=\"displacy-arrowhead\" d=\"M70,164.0 L62,152.0 78,152.0\" fill=\"currentColor\"/>\n",
              "</g>\n",
              "\n",
              "<g class=\"displacy-arrow\">\n",
              "    <path class=\"displacy-arc\" id=\"arrow-fb63cda8c6764bbebb964a3e12a089c8-0-1\" stroke-width=\"2px\" d=\"M70,162.0 C70,82.0 205.0,82.0 205.0,162.0\" fill=\"none\" stroke=\"currentColor\"/>\n",
              "    <text dy=\"1.25em\" style=\"font-size: 0.8em; letter-spacing: 1px\">\n",
              "        <textPath xlink:href=\"#arrow-fb63cda8c6764bbebb964a3e12a089c8-0-1\" class=\"displacy-label\" startOffset=\"50%\" side=\"left\" fill=\"currentColor\" text-anchor=\"middle\">amod</textPath>\n",
              "    </text>\n",
              "    <path class=\"displacy-arrowhead\" d=\"M205.0,164.0 L213.0,152.0 197.0,152.0\" fill=\"currentColor\"/>\n",
              "</g>\n",
              "\n",
              "<g class=\"displacy-arrow\">\n",
              "    <path class=\"displacy-arc\" id=\"arrow-fb63cda8c6764bbebb964a3e12a089c8-0-2\" stroke-width=\"2px\" d=\"M390,162.0 C390,82.0 525.0,82.0 525.0,162.0\" fill=\"none\" stroke=\"currentColor\"/>\n",
              "    <text dy=\"1.25em\" style=\"font-size: 0.8em; letter-spacing: 1px\">\n",
              "        <textPath xlink:href=\"#arrow-fb63cda8c6764bbebb964a3e12a089c8-0-2\" class=\"displacy-label\" startOffset=\"50%\" side=\"left\" fill=\"currentColor\" text-anchor=\"middle\">obj</textPath>\n",
              "    </text>\n",
              "    <path class=\"displacy-arrowhead\" d=\"M525.0,164.0 L533.0,152.0 517.0,152.0\" fill=\"currentColor\"/>\n",
              "</g>\n",
              "\n",
              "<g class=\"displacy-arrow\">\n",
              "    <path class=\"displacy-arc\" id=\"arrow-fb63cda8c6764bbebb964a3e12a089c8-0-3\" stroke-width=\"2px\" d=\"M550,162.0 C550,82.0 685.0,82.0 685.0,162.0\" fill=\"none\" stroke=\"currentColor\"/>\n",
              "    <text dy=\"1.25em\" style=\"font-size: 0.8em; letter-spacing: 1px\">\n",
              "        <textPath xlink:href=\"#arrow-fb63cda8c6764bbebb964a3e12a089c8-0-3\" class=\"displacy-label\" startOffset=\"50%\" side=\"left\" fill=\"currentColor\" text-anchor=\"middle\">amod</textPath>\n",
              "    </text>\n",
              "    <path class=\"displacy-arrowhead\" d=\"M685.0,164.0 L693.0,152.0 677.0,152.0\" fill=\"currentColor\"/>\n",
              "</g>\n",
              "\n",
              "<g class=\"displacy-arrow\">\n",
              "    <path class=\"displacy-arc\" id=\"arrow-fb63cda8c6764bbebb964a3e12a089c8-0-4\" stroke-width=\"2px\" d=\"M870,162.0 C870,82.0 1005.0,82.0 1005.0,162.0\" fill=\"none\" stroke=\"currentColor\"/>\n",
              "    <text dy=\"1.25em\" style=\"font-size: 0.8em; letter-spacing: 1px\">\n",
              "        <textPath xlink:href=\"#arrow-fb63cda8c6764bbebb964a3e12a089c8-0-4\" class=\"displacy-label\" startOffset=\"50%\" side=\"left\" fill=\"currentColor\" text-anchor=\"middle\">flat:name</textPath>\n",
              "    </text>\n",
              "    <path class=\"displacy-arrowhead\" d=\"M1005.0,164.0 L1013.0,152.0 997.0,152.0\" fill=\"currentColor\"/>\n",
              "</g>\n",
              "\n",
              "<g class=\"displacy-arrow\">\n",
              "    <path class=\"displacy-arc\" id=\"arrow-fb63cda8c6764bbebb964a3e12a089c8-0-5\" stroke-width=\"2px\" d=\"M870,162.0 C870,2.0 1170.0,2.0 1170.0,162.0\" fill=\"none\" stroke=\"currentColor\"/>\n",
              "    <text dy=\"1.25em\" style=\"font-size: 0.8em; letter-spacing: 1px\">\n",
              "        <textPath xlink:href=\"#arrow-fb63cda8c6764bbebb964a3e12a089c8-0-5\" class=\"displacy-label\" startOffset=\"50%\" side=\"left\" fill=\"currentColor\" text-anchor=\"middle\">parataxis</textPath>\n",
              "    </text>\n",
              "    <path class=\"displacy-arrowhead\" d=\"M1170.0,164.0 L1178.0,152.0 1162.0,152.0\" fill=\"currentColor\"/>\n",
              "</g>\n",
              "</svg></span>"
            ]
          },
          "metadata": {}
        }
      ]
    },
    {
      "cell_type": "markdown",
      "source": [
        "# **Pipelines**"
      ],
      "metadata": {
        "id": "jJDk1CP4fcQG"
      }
    },
    {
      "cell_type": "code",
      "source": [
        "# A pipeline is a set of sequenced actions that perform on a data.\n",
        "  #This set of actions were performed on the documments created by me for instance.\n",
        "\n",
        "print(\"Pipeline Normal: \", nlp.pipe_names)"
      ],
      "metadata": {
        "id": "ybSHEySQHpgg",
        "colab": {
          "base_uri": "https://localhost:8080/"
        },
        "outputId": "da444a38-494a-4815-b874-93e71edc149d"
      },
      "execution_count": 27,
      "outputs": [
        {
          "output_type": "stream",
          "name": "stdout",
          "text": [
            "Pipeline Normal:  ['tok2vec', 'morphologizer', 'parser', 'lemmatizer', 'attribute_ruler', 'ner']\n"
          ]
        }
      ]
    },
    {
      "cell_type": "code",
      "source": [
        "nlp.remove_pipe('tok2vec')\n",
        "print(\"Pipeline sem uma das etapas: \", nlp.pipe_names)"
      ],
      "metadata": {
        "colab": {
          "base_uri": "https://localhost:8080/"
        },
        "id": "1yWC_gCXhce1",
        "outputId": "584ecd04-7a20-44d4-e2aa-8a6cd3e226cb"
      },
      "execution_count": 30,
      "outputs": [
        {
          "output_type": "stream",
          "name": "stdout",
          "text": [
            "Pipeline sem uma das etapas:  ['morphologizer', 'parser', 'lemmatizer', 'attribute_ruler', 'ner']\n"
          ]
        }
      ]
    },
    {
      "cell_type": "code",
      "source": [
        "# It's possible to remove and add actions wherever I please.\n",
        "\n",
        "nlp.add_pipe(\"tok2vec\", after= 'morphologizer')"
      ],
      "metadata": {
        "colab": {
          "base_uri": "https://localhost:8080/"
        },
        "id": "HpgL90q6hz4F",
        "outputId": "03939d91-26ae-4b8b-d0e6-b71f6440d14f"
      },
      "execution_count": 29,
      "outputs": [
        {
          "output_type": "execute_result",
          "data": {
            "text/plain": [
              "<spacy.pipeline.tok2vec.Tok2Vec at 0x7f6d212094f0>"
            ]
          },
          "metadata": {},
          "execution_count": 29
        }
      ]
    },
    {
      "cell_type": "code",
      "source": [
        "print(\"Pipeline sem uma das etapas: \", nlp.pipe_names)"
      ],
      "metadata": {
        "colab": {
          "base_uri": "https://localhost:8080/"
        },
        "id": "8Y1pkYxYiQyq",
        "outputId": "cb7f61d2-7d9c-4e89-9d17-72330377a922"
      },
      "execution_count": 31,
      "outputs": [
        {
          "output_type": "stream",
          "name": "stdout",
          "text": [
            "Pipeline sem uma das etapas:  ['morphologizer', 'parser', 'lemmatizer', 'attribute_ruler', 'ner']\n"
          ]
        }
      ]
    },
    {
      "cell_type": "code",
      "source": [],
      "metadata": {
        "id": "FUVXLbwxiV0s"
      },
      "execution_count": null,
      "outputs": []
    }
  ]
}
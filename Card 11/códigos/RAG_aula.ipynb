{
  "nbformat": 4,
  "nbformat_minor": 0,
  "metadata": {
    "colab": {
      "provenance": []
    },
    "kernelspec": {
      "name": "python3",
      "display_name": "Python 3"
    },
    "language_info": {
      "name": "python"
    }
  },
  "cells": [
    {
      "cell_type": "markdown",
      "source": [
        " ## **Importando e instalando libs necessárias**"
      ],
      "metadata": {
        "id": "SHJOKSDaDNo5"
      }
    },
    {
      "cell_type": "code",
      "execution_count": null,
      "metadata": {
        "id": "7Ta5oJM0WmU9"
      },
      "outputs": [],
      "source": [
        "!pip install -qU langchain-groq\n",
        "!pip install -U langchain-community"
      ]
    },
    {
      "cell_type": "code",
      "source": [
        "!pip install faiss-cpu\n"
      ],
      "metadata": {
        "colab": {
          "base_uri": "https://localhost:8080/"
        },
        "id": "V7s4L7fng1Sq",
        "outputId": "bec44ccd-5d55-465d-9c5c-ed6a25c4b268"
      },
      "execution_count": 36,
      "outputs": [
        {
          "output_type": "stream",
          "name": "stdout",
          "text": [
            "Collecting faiss-cpu\n",
            "  Downloading faiss_cpu-1.11.0-cp311-cp311-manylinux_2_28_x86_64.whl.metadata (4.8 kB)\n",
            "Requirement already satisfied: numpy<3.0,>=1.25.0 in /usr/local/lib/python3.11/dist-packages (from faiss-cpu) (2.0.2)\n",
            "Requirement already satisfied: packaging in /usr/local/lib/python3.11/dist-packages (from faiss-cpu) (24.2)\n",
            "Downloading faiss_cpu-1.11.0-cp311-cp311-manylinux_2_28_x86_64.whl (31.3 MB)\n",
            "\u001b[2K   \u001b[90m━━━━━━━━━━━━━━━━━━━━━━━━━━━━━━━━━━━━━━━━\u001b[0m \u001b[32m31.3/31.3 MB\u001b[0m \u001b[31m40.3 MB/s\u001b[0m eta \u001b[36m0:00:00\u001b[0m\n",
            "\u001b[?25hInstalling collected packages: faiss-cpu\n",
            "Successfully installed faiss-cpu-1.11.0\n"
          ]
        }
      ]
    },
    {
      "cell_type": "code",
      "source": [
        "!pip install langchain-openai\n"
      ],
      "metadata": {
        "id": "uxSbSEoqfCDG"
      },
      "execution_count": null,
      "outputs": []
    },
    {
      "cell_type": "code",
      "source": [
        "from google.colab import userdata\n",
        "from langchain.prompts import PromptTemplate\n",
        "from langchain.chains import LLMChain\n",
        "import getpass\n",
        "import os"
      ],
      "metadata": {
        "id": "6i1JS7TPaIXw"
      },
      "execution_count": 54,
      "outputs": []
    },
    {
      "cell_type": "markdown",
      "source": [
        "## **Criando meu webscrapper com o embedder da Hugging face**"
      ],
      "metadata": {
        "id": "VLTaxDquDU3P"
      }
    },
    {
      "cell_type": "code",
      "source": [
        "from langchain_community.document_loaders import WebBaseLoader\n",
        "from langchain_community.embeddings import HuggingFaceEmbeddings\n",
        "from langchain_community.vectorstores import FAISS\n",
        "from langchain_text_splitters import RecursiveCharacterTextSplitter\n",
        "\n",
        "def url_to_vector(url):\n",
        "  embeddings = HuggingFaceEmbeddings(model_name=\"sentence-transformers/all-MiniLM-L6-v2\")\n",
        "\n",
        "  loader = WebBaseLoader(url)\n",
        "  docs = loader.load()\n",
        "\n",
        "  text_splitter = RecursiveCharacterTextSplitter()\n",
        "  documents = text_splitter.split_documents(docs)\n",
        "  vector = FAISS.from_documents(documents, embeddings)\n",
        "  retriever = vector.as_retriever()\n",
        "  return retriever"
      ],
      "metadata": {
        "id": "HguPNXYyc4p0"
      },
      "execution_count": 55,
      "outputs": []
    },
    {
      "cell_type": "code",
      "source": [
        "\n",
        "os.environ[\"GROQ_API_KEY\"] = userdata.get('Croq')\n",
        "\n",
        "from langchain_groq import ChatGroq\n",
        "\n",
        "llm = ChatGroq(model=\"meta-llama/llama-4-scout-17b-16e-instruct\")"
      ],
      "metadata": {
        "id": "lFMCD9tsYbEX"
      },
      "execution_count": 59,
      "outputs": []
    },
    {
      "cell_type": "code",
      "source": [
        "#Testando meu prompt sem apoio dos dados do RAG\n",
        "\n",
        "def oscar(filme, ano, llm):\n",
        "  prompt = PromptTemplate(\n",
        "      input_variables= ['filme', 'ano'], #os dois parâmetros que ele vai aceitar são o filme e o ano\n",
        "      template = \"Quantos oscars o filme {filme} ganhou em {ano}\"\n",
        "  )\n",
        "\n",
        "  oscar_chain = LLMChain(llm=llm, prompt= prompt)\n",
        "\n",
        "  response = oscar_chain({'filme': filme, 'ano': ano})\n",
        "\n",
        "  return response"
      ],
      "metadata": {
        "id": "WasJ_-CfYoy2"
      },
      "execution_count": 60,
      "outputs": []
    },
    {
      "cell_type": "code",
      "source": [
        "if __name__==\"__main__\":\n",
        "  response = oscar('Oppenheimer', 2024, llm) # O diferencial do vídeo para o meu é que eu uso um modelo mais atualizado\n",
        "  print(response['text'])"
      ],
      "metadata": {
        "colab": {
          "base_uri": "https://localhost:8080/"
        },
        "id": "oJtLuryNake1",
        "outputId": "5e65051d-e6e7-47a7-a403-4b98c7247da6"
      },
      "execution_count": 66,
      "outputs": [
        {
          "output_type": "stream",
          "name": "stdout",
          "text": [
            "O filme \"Oppenheimer\", dirigido por Christopher Nolan, ganhou 7 Oscars em 2024. Os prêmios foram:\n",
            "\n",
            "- Melhor Filme \n",
            "- Melhor Diretor (Christopher Nolan)\n",
            "- Melhor Ator (Cillian Murphy)\n",
            "- Melhor Ator Coadjuvante (Robert Downey Jr.)\n",
            "- Melhor Fotografia\n",
            "- Melhor Edição de Som\n",
            "- Melhor Mixagem de Som\n"
          ]
        }
      ]
    },
    {
      "cell_type": "markdown",
      "source": [
        "## **Testando meu modelo agora com o apoio do RAG com o site da wikipedia**"
      ],
      "metadata": {
        "id": "9mmVL0oVD3ey"
      }
    },
    {
      "cell_type": "code",
      "source": [
        "from langchain.prompts import ChatPromptTemplate, MessagesPlaceholder\n",
        "from langchain.chains.combine_documents import create_stuff_documents_chain\n",
        "from langchain.chains import create_retrieval_chain\n",
        "\n",
        "\n",
        "prompt = ChatPromptTemplate.from_messages([\n",
        "    (\"system\", \"Você é um assistente útil.\"),\n",
        "    (\"human\", \"Contexto:\\n{context}\\n\\nPergunta: {input}\") #Meu prompt que aceita um contexto e o input\n",
        "])\n",
        "\n",
        "document_chain = create_stuff_documents_chain(llm, prompt)\n",
        "retriever = url_to_vector(\"https://pt.wikipedia.org/wiki/Oppenheimer_(filme)\")\n",
        "retriever_chain = create_retrieval_chain(retriever, document_chain)\n",
        "response = retriever_chain.invoke({\"input\":\"Quantos oscars o filme Oppenheimer ganhou em 2024\"})\n",
        "print(response['answer'])"
      ],
      "metadata": {
        "colab": {
          "base_uri": "https://localhost:8080/"
        },
        "id": "S6pOLS8J6hQv",
        "outputId": "5f44253a-3be5-4186-c592-6fb6d747fa0a"
      },
      "execution_count": 65,
      "outputs": [
        {
          "output_type": "stream",
          "name": "stdout",
          "text": [
            "O filme \"Oppenheimer\" ganhou 7 prêmios no Oscar 2024, incluindo Melhor Filme, Melhor Diretor, Melhor Ator, Ator Coadjuvante, Melhor Fotografia, Melhor Trilha Sonora Original e Melhor Edição.\n"
          ]
        }
      ]
    }
  ]
}
{
  "nbformat": 4,
  "nbformat_minor": 0,
  "metadata": {
    "colab": {
      "provenance": []
    },
    "kernelspec": {
      "name": "python3",
      "display_name": "Python 3"
    },
    "language_info": {
      "name": "python"
    }
  },
  "cells": [
    {
      "cell_type": "markdown",
      "source": [
        " ## **Importando e instalando libs necessárias**"
      ],
      "metadata": {
        "id": "SHJOKSDaDNo5"
      }
    },
    {
      "cell_type": "code",
      "execution_count": null,
      "metadata": {
        "id": "7Ta5oJM0WmU9"
      },
      "outputs": [],
      "source": [
        "!pip install -qU langchain-groq\n",
        "!pip install -U langchain-community\n",
        "!pip install faiss-cpu\n",
        "!pip install langchain-openai"
      ]
    },
    {
      "cell_type": "code",
      "source": [
        "from google.colab import userdata\n",
        "from langchain.prompts import PromptTemplate\n",
        "from langchain.chains import LLMChain\n",
        "import getpass\n",
        "import os"
      ],
      "metadata": {
        "id": "6i1JS7TPaIXw"
      },
      "execution_count": 74,
      "outputs": []
    },
    {
      "cell_type": "markdown",
      "source": [
        "## **Criando meu webscrapper com o embedder da Hugging face**"
      ],
      "metadata": {
        "id": "VLTaxDquDU3P"
      }
    },
    {
      "cell_type": "code",
      "source": [
        "from langchain_community.document_loaders import WebBaseLoader\n",
        "from langchain_community.embeddings import HuggingFaceEmbeddings\n",
        "from langchain_community.vectorstores import FAISS\n",
        "from langchain_text_splitters import RecursiveCharacterTextSplitter\n",
        "\n",
        "def url_to_vector(url):\n",
        "  embeddings = HuggingFaceEmbeddings(model_name=\"sentence-transformers/all-MiniLM-L6-v2\")\n",
        "\n",
        "  loader = WebBaseLoader(url)\n",
        "  docs = loader.load()\n",
        "\n",
        "  text_splitter = RecursiveCharacterTextSplitter()\n",
        "  documents = text_splitter.split_documents(docs)\n",
        "  vector = FAISS.from_documents(documents, embeddings)\n",
        "  retriever = vector.as_retriever()\n",
        "  return retriever"
      ],
      "metadata": {
        "id": "HguPNXYyc4p0"
      },
      "execution_count": 75,
      "outputs": []
    },
    {
      "cell_type": "code",
      "source": [
        "\n",
        "os.environ[\"GROQ_API_KEY\"] = userdata.get('Croq')\n",
        "\n",
        "from langchain_groq import ChatGroq\n",
        "\n",
        "llm = ChatGroq(model=\"meta-llama/llama-4-scout-17b-16e-instruct\")"
      ],
      "metadata": {
        "id": "lFMCD9tsYbEX"
      },
      "execution_count": 76,
      "outputs": []
    },
    {
      "cell_type": "code",
      "source": [
        "#Testando meu prompt sem apoio dos dados do RAG\n",
        "\n",
        "def oscar(filme, ano, llm):\n",
        "  prompt = PromptTemplate(\n",
        "      input_variables= ['filme', 'ano'], #os dois parâmetros que ele vai aceitar são o filme e o ano\n",
        "      template = \"Quanto vendeu o filme {filme} em {ano}\" #mudei o template do prompt para fazer uns testes\n",
        "  )\n",
        "\n",
        "  oscar_chain = LLMChain(llm=llm, prompt= prompt)\n",
        "\n",
        "  response = oscar_chain({'filme': filme, 'ano': ano})\n",
        "\n",
        "  return response"
      ],
      "metadata": {
        "id": "WasJ_-CfYoy2"
      },
      "execution_count": 77,
      "outputs": []
    },
    {
      "cell_type": "code",
      "source": [
        "if __name__==\"__main__\":\n",
        "  response = oscar('Lilo and Stich live action', 2025, llm) # Tentei modificar para um filme mais atual para testar se ele reconhece\n",
        "  print(response['text'])"
      ],
      "metadata": {
        "colab": {
          "base_uri": "https://localhost:8080/"
        },
        "id": "oJtLuryNake1",
        "outputId": "c1ad2cbb-d086-446c-e57e-bdab1b2d3399"
      },
      "execution_count": 78,
      "outputs": [
        {
          "output_type": "stream",
          "name": "stdout",
          "text": [
            "Desculpe, mas não tenho informações sobre um filme live-action de \"Lilo & Stitch\" lançado em 2025. Até a data do meu último conhecimento em abril de 2023, não havia anúncios oficiais sobre um filme live-action de \"Lilo & Stitch\" programado para 2025.\n",
            "\n",
            "No entanto, é importante notar que a Disney tem planos de produzir live-actions de muitos de seus filmes clássicos e populares. \"Lilo & Stitch\" é uma franquia bem querida e não seria surpreendente se um filme live-action fosse anunciado no futuro.\n",
            "\n",
            "Se você está procurando informações sobre vendas de bilheteria, recomendo verificar fontes como Box Office Mojo ou The Numbers para obter informações atualizadas sobre filmes lançados recentemente.\n",
            "\n",
            "Caso você tenha mais alguma informação ou contexto sobre o filme que está se referindo, ficarei feliz em tentar ajudar!\n"
          ]
        }
      ]
    },
    {
      "cell_type": "markdown",
      "source": [
        "## **Testando meu modelo agora com o apoio do RAG com o site da wikipedia**"
      ],
      "metadata": {
        "id": "9mmVL0oVD3ey"
      }
    },
    {
      "cell_type": "code",
      "source": [
        "from langchain.prompts import ChatPromptTemplate, MessagesPlaceholder\n",
        "from langchain.chains.combine_documents import create_stuff_documents_chain\n",
        "from langchain.chains import create_retrieval_chain\n",
        "\n",
        "\n",
        "prompt = ChatPromptTemplate.from_messages([\n",
        "    (\"system\", \"Você é um assistente útil. Precisa ser bem curto nas respostas\"),\n",
        "    (\"human\", \"Contexto:\\n{context}\\n\\nPergunta: {input}\") #Meu prompt que aceita um contexto e o input\n",
        "])\n",
        "\n",
        "document_chain = create_stuff_documents_chain(llm, prompt)\n",
        "retriever = url_to_vector(\"https://en-m-wikipedia-org.translate.goog/wiki/Lilo_&_Stitch_(2025_film)?_x_tr_sl=en&_x_tr_tl=pt&_x_tr_hl=pt&_x_tr_pto=tc\") #URL do filme live action do Lilo and Stich\n",
        "retriever_chain = create_retrieval_chain(retriever, document_chain)\n",
        "response = retriever_chain.invoke({\"input\":\"Quanto vendeu o filme live action do Lilo and Stich em 2025?\"})\n",
        "print(response['answer'])\n",
        "\n",
        "#Como foi possível ver, com o RAG agora é possível pergutar sobre um filme mais atual, um que o modelo não tem na sua própria base de dados.\n",
        "#A RAG providencia uma base de dados nova para o LLM se tornando bastante útil."
      ],
      "metadata": {
        "colab": {
          "base_uri": "https://localhost:8080/"
        },
        "id": "S6pOLS8J6hQv",
        "outputId": "f0679a58-0c52-4161-f91b-02d4c0bedd05"
      },
      "execution_count": 81,
      "outputs": [
        {
          "output_type": "stream",
          "name": "stdout",
          "text": [
            "O filme \"Lilo & Stitch\" live-action de 2025 arrecadou um total mundial de $994.3 milhões. Desse total, $414.6 milhões foram provenientes dos Estados Unidos e Canadá, e $579.7 milhões de outros territórios.\n"
          ]
        }
      ]
    },
    {
      "cell_type": "code",
      "source": [],
      "metadata": {
        "id": "Av7EG460HWVG"
      },
      "execution_count": 80,
      "outputs": []
    }
  ]
}
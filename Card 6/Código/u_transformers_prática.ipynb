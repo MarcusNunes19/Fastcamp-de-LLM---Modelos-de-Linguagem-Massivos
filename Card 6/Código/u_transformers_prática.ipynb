{
  "nbformat": 4,
  "nbformat_minor": 0,
  "metadata": {
    "colab": {
      "provenance": []
    },
    "kernelspec": {
      "name": "python3",
      "display_name": "Python 3"
    },
    "language_info": {
      "name": "python"
    }
  },
  "cells": [
    {
      "cell_type": "code",
      "execution_count": 5,
      "metadata": {
        "colab": {
          "base_uri": "https://localhost:8080/"
        },
        "id": "3bs7eSJuE52I",
        "outputId": "9ea08b6a-7608-4d34-b504-69d6d9e843b3"
      },
      "outputs": [
        {
          "output_type": "stream",
          "name": "stdout",
          "text": [
            "[' ', '!', 'H', 'T', 'a', 'd', 'e', 'g', 'h', 'i', 'j', 'k', 'l', 'n', 'o', 'p', 'r', 's', 't', 'u', 'v']\n",
            "21\n"
          ]
        }
      ],
      "source": [
        "texto = \"Hoje vou usar as palavras do livro do Tolkien para gerar tokens! haha\"\n",
        "caracteres = sorted(list(set(texto)))\n",
        "print(caracteres)\n",
        "print(len(caracteres))"
      ]
    },
    {
      "cell_type": "code",
      "source": [
        "encoder = {it:i for i,it in enumerate(caracteres)}\n",
        "decoder = {i:it for i,it in enumerate(caracteres)}\n",
        "\n",
        "encode = lambda s:[encoder[c] for c in s]\n",
        "decode = lambda s:[decoder[c] for c in s]\n",
        "\n",
        "print(encode(\"tolkien\"))\n",
        "print(decode(encode(\"tolkien\")))\n",
        "\n",
        "#This is called encoding, this is done because computers can't understand raw text\n",
        "  # so before processing this data and feed it into the neural networks it's necessary to\n",
        "  # represent it through numbers.\n",
        "\n",
        "\n",
        "# This is not an efficent way to encode text and feed to the neural network, since encoding\n",
        " #letter by letter is would create a big quantity of data and making the process slower.\n",
        "  #A better and more efficient way of doing encoding is encode words instead of letters, it\n",
        "  #can make the process a lot faster by reducing the number of inputs."
      ],
      "metadata": {
        "colab": {
          "base_uri": "https://localhost:8080/"
        },
        "id": "VBC4OKG5Fq0U",
        "outputId": "65a26d80-03bc-4c36-e8aa-1a0726750888"
      },
      "execution_count": 12,
      "outputs": [
        {
          "output_type": "stream",
          "name": "stdout",
          "text": [
            "[18, 14, 12, 11, 9, 6, 13]\n",
            "['t', 'o', 'l', 'k', 'i', 'e', 'n']\n"
          ]
        }
      ]
    },
    {
      "cell_type": "code",
      "source": [
        "!pip install tiktoken"
      ],
      "metadata": {
        "colab": {
          "base_uri": "https://localhost:8080/"
        },
        "id": "GJgKmsKbHLu7",
        "outputId": "ed7b0b9a-0412-4b7a-9b59-453781df9456"
      },
      "execution_count": 13,
      "outputs": [
        {
          "output_type": "stream",
          "name": "stdout",
          "text": [
            "Collecting tiktoken\n",
            "  Downloading tiktoken-0.9.0-cp311-cp311-manylinux_2_17_x86_64.manylinux2014_x86_64.whl.metadata (6.7 kB)\n",
            "Requirement already satisfied: regex>=2022.1.18 in /usr/local/lib/python3.11/dist-packages (from tiktoken) (2024.11.6)\n",
            "Requirement already satisfied: requests>=2.26.0 in /usr/local/lib/python3.11/dist-packages (from tiktoken) (2.32.3)\n",
            "Requirement already satisfied: charset-normalizer<4,>=2 in /usr/local/lib/python3.11/dist-packages (from requests>=2.26.0->tiktoken) (3.4.1)\n",
            "Requirement already satisfied: idna<4,>=2.5 in /usr/local/lib/python3.11/dist-packages (from requests>=2.26.0->tiktoken) (3.10)\n",
            "Requirement already satisfied: urllib3<3,>=1.21.1 in /usr/local/lib/python3.11/dist-packages (from requests>=2.26.0->tiktoken) (2.3.0)\n",
            "Requirement already satisfied: certifi>=2017.4.17 in /usr/local/lib/python3.11/dist-packages (from requests>=2.26.0->tiktoken) (2025.1.31)\n",
            "Downloading tiktoken-0.9.0-cp311-cp311-manylinux_2_17_x86_64.manylinux2014_x86_64.whl (1.2 MB)\n",
            "\u001b[?25l   \u001b[90m━━━━━━━━━━━━━━━━━━━━━━━━━━━━━━━━━━━━━━━━\u001b[0m \u001b[32m0.0/1.2 MB\u001b[0m \u001b[31m?\u001b[0m eta \u001b[36m-:--:--\u001b[0m\r\u001b[2K   \u001b[91m━━━━━━━━━━\u001b[0m\u001b[91m╸\u001b[0m\u001b[90m━━━━━━━━━━━━━━━━━━━━━━━━━━━━━\u001b[0m \u001b[32m0.3/1.2 MB\u001b[0m \u001b[31m10.0 MB/s\u001b[0m eta \u001b[36m0:00:01\u001b[0m\r\u001b[2K   \u001b[90m━━━━━━━━━━━━━━━━━━━━━━━━━━━━━━━━━━━━━━━━\u001b[0m \u001b[32m1.2/1.2 MB\u001b[0m \u001b[31m19.7 MB/s\u001b[0m eta \u001b[36m0:00:00\u001b[0m\n",
            "\u001b[?25hInstalling collected packages: tiktoken\n",
            "Successfully installed tiktoken-0.9.0\n"
          ]
        }
      ]
    },
    {
      "cell_type": "code",
      "source": [
        "import tiktoken\n",
        "enc = tiktoken.get_encoding(\"gpt2\")\n",
        "print(encode(\"Hoje vou usar as palavras do livro do Tolkien para gerar tokens! haha\"))\n",
        "print(enc.encode(\"Hoje vou usar as palavras do livro do Tolkien para gerar tokens! haha\"))\n",
        "\n",
        "# As it can be seen, the encoder that I've built produces more data than the gpt's."
      ],
      "metadata": {
        "colab": {
          "base_uri": "https://localhost:8080/"
        },
        "id": "dcFE0z3ZKi3g",
        "outputId": "5e99e574-5bf0-4cb2-9efe-a3e246849022"
      },
      "execution_count": 20,
      "outputs": [
        {
          "output_type": "stream",
          "name": "stdout",
          "text": [
            "[2, 14, 10, 6, 0, 20, 14, 19, 0, 19, 17, 4, 16, 0, 4, 17, 0, 15, 4, 12, 4, 20, 16, 4, 17, 0, 5, 14, 0, 12, 9, 20, 16, 14, 0, 5, 14, 0, 3, 14, 12, 11, 9, 6, 13, 0, 15, 4, 16, 4, 0, 7, 6, 16, 4, 16, 0, 18, 14, 11, 6, 13, 17, 1, 0, 8, 4, 8, 4]\n",
            "[39, 13210, 68, 25211, 514, 283, 355, 6340, 615, 8847, 466, 17717, 305, 466, 32447, 31215, 27602, 283, 16326, 0, 42254]\n"
          ]
        }
      ]
    },
    {
      "cell_type": "code",
      "source": [
        "texto = enc.encode(\"Bilbo was eating bread and fish when the dwarves arrived with Gandalf\")\n",
        "print(texto)\n",
        "print(len(texto))\n"
      ],
      "metadata": {
        "colab": {
          "base_uri": "https://localhost:8080/"
        },
        "id": "4kEpnyLIKpxw",
        "outputId": "78045e05-d4b2-4ea3-db97-2b0cd4955a71"
      },
      "execution_count": 22,
      "outputs": [
        {
          "output_type": "stream",
          "name": "stdout",
          "text": [
            "[33, 346, 2127, 373, 6600, 8509, 290, 5916, 618, 262, 40158, 5284, 351, 17727, 1604]\n",
            "15\n"
          ]
        }
      ]
    },
    {
      "cell_type": "code",
      "source": [
        "for i in range(len(texto) - 1):\n",
        "  x= texto[:i]\n",
        "  y = texto[i + 1]\n",
        "  if x != []:\n",
        "    print(f\"Quando o dado for {x} o alvo é {y}\")\n",
        "\n",
        "# This is the way of how GPT predicts the tokens, in a left to right sequence\n",
        ""
      ],
      "metadata": {
        "colab": {
          "base_uri": "https://localhost:8080/"
        },
        "id": "fAmtBl0jOcJ3",
        "outputId": "0d04e035-3566-4901-c355-3486ebcb0dfa"
      },
      "execution_count": 27,
      "outputs": [
        {
          "output_type": "stream",
          "name": "stdout",
          "text": [
            "Quando o dado for [33] o alvo é 2127\n",
            "Quando o dado for [33, 346] o alvo é 373\n",
            "Quando o dado for [33, 346, 2127] o alvo é 6600\n",
            "Quando o dado for [33, 346, 2127, 373] o alvo é 8509\n",
            "Quando o dado for [33, 346, 2127, 373, 6600] o alvo é 290\n",
            "Quando o dado for [33, 346, 2127, 373, 6600, 8509] o alvo é 5916\n",
            "Quando o dado for [33, 346, 2127, 373, 6600, 8509, 290] o alvo é 618\n",
            "Quando o dado for [33, 346, 2127, 373, 6600, 8509, 290, 5916] o alvo é 262\n",
            "Quando o dado for [33, 346, 2127, 373, 6600, 8509, 290, 5916, 618] o alvo é 40158\n",
            "Quando o dado for [33, 346, 2127, 373, 6600, 8509, 290, 5916, 618, 262] o alvo é 5284\n",
            "Quando o dado for [33, 346, 2127, 373, 6600, 8509, 290, 5916, 618, 262, 40158] o alvo é 351\n",
            "Quando o dado for [33, 346, 2127, 373, 6600, 8509, 290, 5916, 618, 262, 40158, 5284] o alvo é 17727\n",
            "Quando o dado for [33, 346, 2127, 373, 6600, 8509, 290, 5916, 618, 262, 40158, 5284, 351] o alvo é 1604\n"
          ]
        }
      ]
    },
    {
      "cell_type": "code",
      "source": [
        "from random import randint\n",
        "\n",
        "for i in range(len(texto)):\n",
        "  x = texto\n",
        "  y = texto.copy()\n",
        "  idx_mask = randint(0, len(texto) -1)\n",
        "  y[idx_mask] = '<mask>'\n",
        "  print(f\"Quando os dados forem {x} o alvo é {y}\")\n",
        "\n",
        "  #Instead of doing it in a left to right sequence, Bert predicts in random positions"
      ],
      "metadata": {
        "colab": {
          "base_uri": "https://localhost:8080/"
        },
        "id": "25WEc_u4O7Cz",
        "outputId": "06494c4e-e128-4915-8bb2-c8405663b7f4"
      },
      "execution_count": 29,
      "outputs": [
        {
          "output_type": "stream",
          "name": "stdout",
          "text": [
            "Quando os dados forem [33, 346, 2127, 373, 6600, 8509, 290, 5916, 618, 262, 40158, 5284, 351, 17727, 1604] o alvo é [33, 346, '<mask>', 373, 6600, 8509, 290, 5916, 618, 262, 40158, 5284, 351, 17727, 1604]\n",
            "Quando os dados forem [33, 346, 2127, 373, 6600, 8509, 290, 5916, 618, 262, 40158, 5284, 351, 17727, 1604] o alvo é [33, 346, 2127, 373, '<mask>', 8509, 290, 5916, 618, 262, 40158, 5284, 351, 17727, 1604]\n",
            "Quando os dados forem [33, 346, 2127, 373, 6600, 8509, 290, 5916, 618, 262, 40158, 5284, 351, 17727, 1604] o alvo é [33, 346, 2127, 373, 6600, 8509, 290, 5916, 618, 262, 40158, 5284, 351, '<mask>', 1604]\n",
            "Quando os dados forem [33, 346, 2127, 373, 6600, 8509, 290, 5916, 618, 262, 40158, 5284, 351, 17727, 1604] o alvo é [33, 346, 2127, 373, 6600, 8509, 290, 5916, 618, '<mask>', 40158, 5284, 351, 17727, 1604]\n",
            "Quando os dados forem [33, 346, 2127, 373, 6600, 8509, 290, 5916, 618, 262, 40158, 5284, 351, 17727, 1604] o alvo é [33, 346, 2127, 373, 6600, 8509, '<mask>', 5916, 618, 262, 40158, 5284, 351, 17727, 1604]\n",
            "Quando os dados forem [33, 346, 2127, 373, 6600, 8509, 290, 5916, 618, 262, 40158, 5284, 351, 17727, 1604] o alvo é [33, 346, '<mask>', 373, 6600, 8509, 290, 5916, 618, 262, 40158, 5284, 351, 17727, 1604]\n",
            "Quando os dados forem [33, 346, 2127, 373, 6600, 8509, 290, 5916, 618, 262, 40158, 5284, 351, 17727, 1604] o alvo é [33, 346, 2127, 373, 6600, 8509, '<mask>', 5916, 618, 262, 40158, 5284, 351, 17727, 1604]\n",
            "Quando os dados forem [33, 346, 2127, 373, 6600, 8509, 290, 5916, 618, 262, 40158, 5284, 351, 17727, 1604] o alvo é [33, 346, '<mask>', 373, 6600, 8509, 290, 5916, 618, 262, 40158, 5284, 351, 17727, 1604]\n",
            "Quando os dados forem [33, 346, 2127, 373, 6600, 8509, 290, 5916, 618, 262, 40158, 5284, 351, 17727, 1604] o alvo é [33, 346, 2127, 373, 6600, 8509, 290, 5916, 618, 262, 40158, 5284, 351, '<mask>', 1604]\n",
            "Quando os dados forem [33, 346, 2127, 373, 6600, 8509, 290, 5916, 618, 262, 40158, 5284, 351, 17727, 1604] o alvo é [33, 346, 2127, 373, 6600, 8509, 290, '<mask>', 618, 262, 40158, 5284, 351, 17727, 1604]\n",
            "Quando os dados forem [33, 346, 2127, 373, 6600, 8509, 290, 5916, 618, 262, 40158, 5284, 351, 17727, 1604] o alvo é [33, '<mask>', 2127, 373, 6600, 8509, 290, 5916, 618, 262, 40158, 5284, 351, 17727, 1604]\n",
            "Quando os dados forem [33, 346, 2127, 373, 6600, 8509, 290, 5916, 618, 262, 40158, 5284, 351, 17727, 1604] o alvo é [33, 346, 2127, 373, 6600, 8509, 290, 5916, '<mask>', 262, 40158, 5284, 351, 17727, 1604]\n",
            "Quando os dados forem [33, 346, 2127, 373, 6600, 8509, 290, 5916, 618, 262, 40158, 5284, 351, 17727, 1604] o alvo é [33, 346, 2127, 373, 6600, 8509, 290, 5916, 618, 262, 40158, 5284, 351, '<mask>', 1604]\n",
            "Quando os dados forem [33, 346, 2127, 373, 6600, 8509, 290, 5916, 618, 262, 40158, 5284, 351, 17727, 1604] o alvo é [33, 346, 2127, 373, 6600, 8509, 290, 5916, 618, 262, 40158, '<mask>', 351, 17727, 1604]\n",
            "Quando os dados forem [33, 346, 2127, 373, 6600, 8509, 290, 5916, 618, 262, 40158, 5284, 351, 17727, 1604] o alvo é [33, 346, 2127, 373, 6600, '<mask>', 290, 5916, 618, 262, 40158, 5284, 351, 17727, 1604]\n"
          ]
        }
      ]
    },
    {
      "cell_type": "code",
      "source": [],
      "metadata": {
        "id": "Gzh4Du-MQOYe"
      },
      "execution_count": null,
      "outputs": []
    }
  ]
}
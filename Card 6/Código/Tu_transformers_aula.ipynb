{
  "nbformat": 4,
  "nbformat_minor": 0,
  "metadata": {
    "colab": {
      "provenance": []
    },
    "kernelspec": {
      "name": "python3",
      "display_name": "Python 3"
    },
    "language_info": {
      "name": "python"
    }
  },
  "cells": [
    {
      "cell_type": "markdown",
      "source": [
        "# **Encoding by Letters**"
      ],
      "metadata": {
        "id": "wl7mJxwHH7G2"
      }
    },
    {
      "cell_type": "code",
      "execution_count": 1,
      "metadata": {
        "colab": {
          "base_uri": "https://localhost:8080/"
        },
        "id": "OrXSV6nG_Wx-",
        "outputId": "74e912e3-9489-46a5-8350-0840d146cb48"
      },
      "outputs": [
        {
          "output_type": "stream",
          "name": "stdout",
          "text": [
            "[' ', '!', 'a', 'c', 'd', 'e', 'f', 'g', 'h', 'j', 'm', 'n', 'o', 'p', 'r', 's', 't', 'u', 'v', 'ê']\n",
            "Tamanho do meu vocabulário: 20\n"
          ]
        }
      ],
      "source": [
        "text = \"hoje eu estou focado em aprender com você! vou pegar meu gatorade\"\n",
        "characters = sorted(list(set(text)))\n",
        "print(characters)\n",
        "print(f\"Tamanho do meu vocabulário: {len(characters)}\")"
      ]
    },
    {
      "cell_type": "code",
      "source": [
        "encoder = {it:i for i,it in enumerate(characters)}\n",
        "decoder = {i:it for i, it in enumerate(characters)}\n",
        "\n",
        "encode = lambda s:[encoder[c] for c in s] #my encoder\n",
        "decode = lambda s:{decoder[c] for c in s} #my decoder\n",
        "\n",
        "print(encode(\"vamos aprender jogando dota!\"))\n",
        "print(decode(encode(\"vamos aprender jogando\")))"
      ],
      "metadata": {
        "colab": {
          "base_uri": "https://localhost:8080/"
        },
        "id": "D-j8O5Th_wsb",
        "outputId": "fc2328ad-0fd7-4ef4-b3c9-49da90c6c7ba"
      },
      "execution_count": 2,
      "outputs": [
        {
          "output_type": "stream",
          "name": "stdout",
          "text": [
            "[18, 2, 10, 12, 15, 0, 2, 13, 14, 5, 11, 4, 5, 14, 0, 9, 12, 7, 2, 11, 4, 12, 0, 4, 12, 16, 2, 1]\n",
            "{' ', 'o', 'p', 'v', 'm', 'j', 'n', 'e', 'a', 'd', 'r', 'g', 's'}\n"
          ]
        }
      ]
    },
    {
      "cell_type": "markdown",
      "source": [
        "# **Encoding by words instead of letters**"
      ],
      "metadata": {
        "id": "BqW6BJOOHw2A"
      }
    },
    {
      "cell_type": "code",
      "source": [
        "import pandas as pd\n",
        "import numpy as np\n",
        "\n",
        "text = {'text':[\n",
        "    'você está começando a aprender transformers',\n",
        "    'talvez você esteja começando a gostar',\n",
        "]}\n",
        "text = pd.DataFrame(text)\n",
        "text\n",
        "\n"
      ],
      "metadata": {
        "colab": {
          "base_uri": "https://localhost:8080/",
          "height": 125
        },
        "id": "0uHyQSwuAST9",
        "outputId": "2f3a8f3d-483f-43c4-a6e0-77f0fc04f0e2"
      },
      "execution_count": 3,
      "outputs": [
        {
          "output_type": "execute_result",
          "data": {
            "text/plain": [
              "                                          text\n",
              "0  você está começando a aprender transformers\n",
              "1        talvez você esteja começando a gostar"
            ],
            "text/html": [
              "\n",
              "  <div id=\"df-7f5dd75d-6fe3-4483-912a-51539850e349\" class=\"colab-df-container\">\n",
              "    <div>\n",
              "<style scoped>\n",
              "    .dataframe tbody tr th:only-of-type {\n",
              "        vertical-align: middle;\n",
              "    }\n",
              "\n",
              "    .dataframe tbody tr th {\n",
              "        vertical-align: top;\n",
              "    }\n",
              "\n",
              "    .dataframe thead th {\n",
              "        text-align: right;\n",
              "    }\n",
              "</style>\n",
              "<table border=\"1\" class=\"dataframe\">\n",
              "  <thead>\n",
              "    <tr style=\"text-align: right;\">\n",
              "      <th></th>\n",
              "      <th>text</th>\n",
              "    </tr>\n",
              "  </thead>\n",
              "  <tbody>\n",
              "    <tr>\n",
              "      <th>0</th>\n",
              "      <td>você está começando a aprender transformers</td>\n",
              "    </tr>\n",
              "    <tr>\n",
              "      <th>1</th>\n",
              "      <td>talvez você esteja começando a gostar</td>\n",
              "    </tr>\n",
              "  </tbody>\n",
              "</table>\n",
              "</div>\n",
              "    <div class=\"colab-df-buttons\">\n",
              "\n",
              "  <div class=\"colab-df-container\">\n",
              "    <button class=\"colab-df-convert\" onclick=\"convertToInteractive('df-7f5dd75d-6fe3-4483-912a-51539850e349')\"\n",
              "            title=\"Convert this dataframe to an interactive table.\"\n",
              "            style=\"display:none;\">\n",
              "\n",
              "  <svg xmlns=\"http://www.w3.org/2000/svg\" height=\"24px\" viewBox=\"0 -960 960 960\">\n",
              "    <path d=\"M120-120v-720h720v720H120Zm60-500h600v-160H180v160Zm220 220h160v-160H400v160Zm0 220h160v-160H400v160ZM180-400h160v-160H180v160Zm440 0h160v-160H620v160ZM180-180h160v-160H180v160Zm440 0h160v-160H620v160Z\"/>\n",
              "  </svg>\n",
              "    </button>\n",
              "\n",
              "  <style>\n",
              "    .colab-df-container {\n",
              "      display:flex;\n",
              "      gap: 12px;\n",
              "    }\n",
              "\n",
              "    .colab-df-convert {\n",
              "      background-color: #E8F0FE;\n",
              "      border: none;\n",
              "      border-radius: 50%;\n",
              "      cursor: pointer;\n",
              "      display: none;\n",
              "      fill: #1967D2;\n",
              "      height: 32px;\n",
              "      padding: 0 0 0 0;\n",
              "      width: 32px;\n",
              "    }\n",
              "\n",
              "    .colab-df-convert:hover {\n",
              "      background-color: #E2EBFA;\n",
              "      box-shadow: 0px 1px 2px rgba(60, 64, 67, 0.3), 0px 1px 3px 1px rgba(60, 64, 67, 0.15);\n",
              "      fill: #174EA6;\n",
              "    }\n",
              "\n",
              "    .colab-df-buttons div {\n",
              "      margin-bottom: 4px;\n",
              "    }\n",
              "\n",
              "    [theme=dark] .colab-df-convert {\n",
              "      background-color: #3B4455;\n",
              "      fill: #D2E3FC;\n",
              "    }\n",
              "\n",
              "    [theme=dark] .colab-df-convert:hover {\n",
              "      background-color: #434B5C;\n",
              "      box-shadow: 0px 1px 3px 1px rgba(0, 0, 0, 0.15);\n",
              "      filter: drop-shadow(0px 1px 2px rgba(0, 0, 0, 0.3));\n",
              "      fill: #FFFFFF;\n",
              "    }\n",
              "  </style>\n",
              "\n",
              "    <script>\n",
              "      const buttonEl =\n",
              "        document.querySelector('#df-7f5dd75d-6fe3-4483-912a-51539850e349 button.colab-df-convert');\n",
              "      buttonEl.style.display =\n",
              "        google.colab.kernel.accessAllowed ? 'block' : 'none';\n",
              "\n",
              "      async function convertToInteractive(key) {\n",
              "        const element = document.querySelector('#df-7f5dd75d-6fe3-4483-912a-51539850e349');\n",
              "        const dataTable =\n",
              "          await google.colab.kernel.invokeFunction('convertToInteractive',\n",
              "                                                    [key], {});\n",
              "        if (!dataTable) return;\n",
              "\n",
              "        const docLinkHtml = 'Like what you see? Visit the ' +\n",
              "          '<a target=\"_blank\" href=https://colab.research.google.com/notebooks/data_table.ipynb>data table notebook</a>'\n",
              "          + ' to learn more about interactive tables.';\n",
              "        element.innerHTML = '';\n",
              "        dataTable['output_type'] = 'display_data';\n",
              "        await google.colab.output.renderOutput(dataTable, element);\n",
              "        const docLink = document.createElement('div');\n",
              "        docLink.innerHTML = docLinkHtml;\n",
              "        element.appendChild(docLink);\n",
              "      }\n",
              "    </script>\n",
              "  </div>\n",
              "\n",
              "\n",
              "<div id=\"df-0cf4a6fc-96c2-40a5-a497-ca07fa2fce8d\">\n",
              "  <button class=\"colab-df-quickchart\" onclick=\"quickchart('df-0cf4a6fc-96c2-40a5-a497-ca07fa2fce8d')\"\n",
              "            title=\"Suggest charts\"\n",
              "            style=\"display:none;\">\n",
              "\n",
              "<svg xmlns=\"http://www.w3.org/2000/svg\" height=\"24px\"viewBox=\"0 0 24 24\"\n",
              "     width=\"24px\">\n",
              "    <g>\n",
              "        <path d=\"M19 3H5c-1.1 0-2 .9-2 2v14c0 1.1.9 2 2 2h14c1.1 0 2-.9 2-2V5c0-1.1-.9-2-2-2zM9 17H7v-7h2v7zm4 0h-2V7h2v10zm4 0h-2v-4h2v4z\"/>\n",
              "    </g>\n",
              "</svg>\n",
              "  </button>\n",
              "\n",
              "<style>\n",
              "  .colab-df-quickchart {\n",
              "      --bg-color: #E8F0FE;\n",
              "      --fill-color: #1967D2;\n",
              "      --hover-bg-color: #E2EBFA;\n",
              "      --hover-fill-color: #174EA6;\n",
              "      --disabled-fill-color: #AAA;\n",
              "      --disabled-bg-color: #DDD;\n",
              "  }\n",
              "\n",
              "  [theme=dark] .colab-df-quickchart {\n",
              "      --bg-color: #3B4455;\n",
              "      --fill-color: #D2E3FC;\n",
              "      --hover-bg-color: #434B5C;\n",
              "      --hover-fill-color: #FFFFFF;\n",
              "      --disabled-bg-color: #3B4455;\n",
              "      --disabled-fill-color: #666;\n",
              "  }\n",
              "\n",
              "  .colab-df-quickchart {\n",
              "    background-color: var(--bg-color);\n",
              "    border: none;\n",
              "    border-radius: 50%;\n",
              "    cursor: pointer;\n",
              "    display: none;\n",
              "    fill: var(--fill-color);\n",
              "    height: 32px;\n",
              "    padding: 0;\n",
              "    width: 32px;\n",
              "  }\n",
              "\n",
              "  .colab-df-quickchart:hover {\n",
              "    background-color: var(--hover-bg-color);\n",
              "    box-shadow: 0 1px 2px rgba(60, 64, 67, 0.3), 0 1px 3px 1px rgba(60, 64, 67, 0.15);\n",
              "    fill: var(--button-hover-fill-color);\n",
              "  }\n",
              "\n",
              "  .colab-df-quickchart-complete:disabled,\n",
              "  .colab-df-quickchart-complete:disabled:hover {\n",
              "    background-color: var(--disabled-bg-color);\n",
              "    fill: var(--disabled-fill-color);\n",
              "    box-shadow: none;\n",
              "  }\n",
              "\n",
              "  .colab-df-spinner {\n",
              "    border: 2px solid var(--fill-color);\n",
              "    border-color: transparent;\n",
              "    border-bottom-color: var(--fill-color);\n",
              "    animation:\n",
              "      spin 1s steps(1) infinite;\n",
              "  }\n",
              "\n",
              "  @keyframes spin {\n",
              "    0% {\n",
              "      border-color: transparent;\n",
              "      border-bottom-color: var(--fill-color);\n",
              "      border-left-color: var(--fill-color);\n",
              "    }\n",
              "    20% {\n",
              "      border-color: transparent;\n",
              "      border-left-color: var(--fill-color);\n",
              "      border-top-color: var(--fill-color);\n",
              "    }\n",
              "    30% {\n",
              "      border-color: transparent;\n",
              "      border-left-color: var(--fill-color);\n",
              "      border-top-color: var(--fill-color);\n",
              "      border-right-color: var(--fill-color);\n",
              "    }\n",
              "    40% {\n",
              "      border-color: transparent;\n",
              "      border-right-color: var(--fill-color);\n",
              "      border-top-color: var(--fill-color);\n",
              "    }\n",
              "    60% {\n",
              "      border-color: transparent;\n",
              "      border-right-color: var(--fill-color);\n",
              "    }\n",
              "    80% {\n",
              "      border-color: transparent;\n",
              "      border-right-color: var(--fill-color);\n",
              "      border-bottom-color: var(--fill-color);\n",
              "    }\n",
              "    90% {\n",
              "      border-color: transparent;\n",
              "      border-bottom-color: var(--fill-color);\n",
              "    }\n",
              "  }\n",
              "</style>\n",
              "\n",
              "  <script>\n",
              "    async function quickchart(key) {\n",
              "      const quickchartButtonEl =\n",
              "        document.querySelector('#' + key + ' button');\n",
              "      quickchartButtonEl.disabled = true;  // To prevent multiple clicks.\n",
              "      quickchartButtonEl.classList.add('colab-df-spinner');\n",
              "      try {\n",
              "        const charts = await google.colab.kernel.invokeFunction(\n",
              "            'suggestCharts', [key], {});\n",
              "      } catch (error) {\n",
              "        console.error('Error during call to suggestCharts:', error);\n",
              "      }\n",
              "      quickchartButtonEl.classList.remove('colab-df-spinner');\n",
              "      quickchartButtonEl.classList.add('colab-df-quickchart-complete');\n",
              "    }\n",
              "    (() => {\n",
              "      let quickchartButtonEl =\n",
              "        document.querySelector('#df-0cf4a6fc-96c2-40a5-a497-ca07fa2fce8d button');\n",
              "      quickchartButtonEl.style.display =\n",
              "        google.colab.kernel.accessAllowed ? 'block' : 'none';\n",
              "    })();\n",
              "  </script>\n",
              "</div>\n",
              "\n",
              "  <div id=\"id_30904729-7ecd-4ab9-b10b-d1f06e8056ac\">\n",
              "    <style>\n",
              "      .colab-df-generate {\n",
              "        background-color: #E8F0FE;\n",
              "        border: none;\n",
              "        border-radius: 50%;\n",
              "        cursor: pointer;\n",
              "        display: none;\n",
              "        fill: #1967D2;\n",
              "        height: 32px;\n",
              "        padding: 0 0 0 0;\n",
              "        width: 32px;\n",
              "      }\n",
              "\n",
              "      .colab-df-generate:hover {\n",
              "        background-color: #E2EBFA;\n",
              "        box-shadow: 0px 1px 2px rgba(60, 64, 67, 0.3), 0px 1px 3px 1px rgba(60, 64, 67, 0.15);\n",
              "        fill: #174EA6;\n",
              "      }\n",
              "\n",
              "      [theme=dark] .colab-df-generate {\n",
              "        background-color: #3B4455;\n",
              "        fill: #D2E3FC;\n",
              "      }\n",
              "\n",
              "      [theme=dark] .colab-df-generate:hover {\n",
              "        background-color: #434B5C;\n",
              "        box-shadow: 0px 1px 3px 1px rgba(0, 0, 0, 0.15);\n",
              "        filter: drop-shadow(0px 1px 2px rgba(0, 0, 0, 0.3));\n",
              "        fill: #FFFFFF;\n",
              "      }\n",
              "    </style>\n",
              "    <button class=\"colab-df-generate\" onclick=\"generateWithVariable('text')\"\n",
              "            title=\"Generate code using this dataframe.\"\n",
              "            style=\"display:none;\">\n",
              "\n",
              "  <svg xmlns=\"http://www.w3.org/2000/svg\" height=\"24px\"viewBox=\"0 0 24 24\"\n",
              "       width=\"24px\">\n",
              "    <path d=\"M7,19H8.4L18.45,9,17,7.55,7,17.6ZM5,21V16.75L18.45,3.32a2,2,0,0,1,2.83,0l1.4,1.43a1.91,1.91,0,0,1,.58,1.4,1.91,1.91,0,0,1-.58,1.4L9.25,21ZM18.45,9,17,7.55Zm-12,3A5.31,5.31,0,0,0,4.9,8.1,5.31,5.31,0,0,0,1,6.5,5.31,5.31,0,0,0,4.9,4.9,5.31,5.31,0,0,0,6.5,1,5.31,5.31,0,0,0,8.1,4.9,5.31,5.31,0,0,0,12,6.5,5.46,5.46,0,0,0,6.5,12Z\"/>\n",
              "  </svg>\n",
              "    </button>\n",
              "    <script>\n",
              "      (() => {\n",
              "      const buttonEl =\n",
              "        document.querySelector('#id_30904729-7ecd-4ab9-b10b-d1f06e8056ac button.colab-df-generate');\n",
              "      buttonEl.style.display =\n",
              "        google.colab.kernel.accessAllowed ? 'block' : 'none';\n",
              "\n",
              "      buttonEl.onclick = () => {\n",
              "        google.colab.notebook.generateWithVariable('text');\n",
              "      }\n",
              "      })();\n",
              "    </script>\n",
              "  </div>\n",
              "\n",
              "    </div>\n",
              "  </div>\n"
            ],
            "application/vnd.google.colaboratory.intrinsic+json": {
              "type": "dataframe",
              "variable_name": "text",
              "summary": "{\n  \"name\": \"text\",\n  \"rows\": 2,\n  \"fields\": [\n    {\n      \"column\": \"text\",\n      \"properties\": {\n        \"dtype\": \"string\",\n        \"num_unique_values\": 2,\n        \"samples\": [\n          \"talvez voc\\u00ea esteja come\\u00e7ando a gostar\",\n          \"voc\\u00ea est\\u00e1 come\\u00e7ando a aprender transformers\"\n        ],\n        \"semantic_type\": \"\",\n        \"description\": \"\"\n      }\n    }\n  ]\n}"
            }
          },
          "metadata": {},
          "execution_count": 3
        }
      ]
    },
    {
      "cell_type": "code",
      "source": [
        "text[\"text\"].str.get_dummies(\" \")"
      ],
      "metadata": {
        "colab": {
          "base_uri": "https://localhost:8080/",
          "height": 112
        },
        "id": "Q_g6Tcv_JW9P",
        "outputId": "502cb046-f886-4ec2-e974-b1ae1a06ca95"
      },
      "execution_count": 4,
      "outputs": [
        {
          "output_type": "execute_result",
          "data": {
            "text/plain": [
              "   a  aprender  começando  esteja  está  gostar  talvez  transformers  você\n",
              "0  1         1          1       0     1       0       0             1     1\n",
              "1  1         0          1       1     0       1       1             0     1"
            ],
            "text/html": [
              "\n",
              "  <div id=\"df-77ce8909-f1b1-4a9b-a8a8-d6332abcee98\" class=\"colab-df-container\">\n",
              "    <div>\n",
              "<style scoped>\n",
              "    .dataframe tbody tr th:only-of-type {\n",
              "        vertical-align: middle;\n",
              "    }\n",
              "\n",
              "    .dataframe tbody tr th {\n",
              "        vertical-align: top;\n",
              "    }\n",
              "\n",
              "    .dataframe thead th {\n",
              "        text-align: right;\n",
              "    }\n",
              "</style>\n",
              "<table border=\"1\" class=\"dataframe\">\n",
              "  <thead>\n",
              "    <tr style=\"text-align: right;\">\n",
              "      <th></th>\n",
              "      <th>a</th>\n",
              "      <th>aprender</th>\n",
              "      <th>começando</th>\n",
              "      <th>esteja</th>\n",
              "      <th>está</th>\n",
              "      <th>gostar</th>\n",
              "      <th>talvez</th>\n",
              "      <th>transformers</th>\n",
              "      <th>você</th>\n",
              "    </tr>\n",
              "  </thead>\n",
              "  <tbody>\n",
              "    <tr>\n",
              "      <th>0</th>\n",
              "      <td>1</td>\n",
              "      <td>1</td>\n",
              "      <td>1</td>\n",
              "      <td>0</td>\n",
              "      <td>1</td>\n",
              "      <td>0</td>\n",
              "      <td>0</td>\n",
              "      <td>1</td>\n",
              "      <td>1</td>\n",
              "    </tr>\n",
              "    <tr>\n",
              "      <th>1</th>\n",
              "      <td>1</td>\n",
              "      <td>0</td>\n",
              "      <td>1</td>\n",
              "      <td>1</td>\n",
              "      <td>0</td>\n",
              "      <td>1</td>\n",
              "      <td>1</td>\n",
              "      <td>0</td>\n",
              "      <td>1</td>\n",
              "    </tr>\n",
              "  </tbody>\n",
              "</table>\n",
              "</div>\n",
              "    <div class=\"colab-df-buttons\">\n",
              "\n",
              "  <div class=\"colab-df-container\">\n",
              "    <button class=\"colab-df-convert\" onclick=\"convertToInteractive('df-77ce8909-f1b1-4a9b-a8a8-d6332abcee98')\"\n",
              "            title=\"Convert this dataframe to an interactive table.\"\n",
              "            style=\"display:none;\">\n",
              "\n",
              "  <svg xmlns=\"http://www.w3.org/2000/svg\" height=\"24px\" viewBox=\"0 -960 960 960\">\n",
              "    <path d=\"M120-120v-720h720v720H120Zm60-500h600v-160H180v160Zm220 220h160v-160H400v160Zm0 220h160v-160H400v160ZM180-400h160v-160H180v160Zm440 0h160v-160H620v160ZM180-180h160v-160H180v160Zm440 0h160v-160H620v160Z\"/>\n",
              "  </svg>\n",
              "    </button>\n",
              "\n",
              "  <style>\n",
              "    .colab-df-container {\n",
              "      display:flex;\n",
              "      gap: 12px;\n",
              "    }\n",
              "\n",
              "    .colab-df-convert {\n",
              "      background-color: #E8F0FE;\n",
              "      border: none;\n",
              "      border-radius: 50%;\n",
              "      cursor: pointer;\n",
              "      display: none;\n",
              "      fill: #1967D2;\n",
              "      height: 32px;\n",
              "      padding: 0 0 0 0;\n",
              "      width: 32px;\n",
              "    }\n",
              "\n",
              "    .colab-df-convert:hover {\n",
              "      background-color: #E2EBFA;\n",
              "      box-shadow: 0px 1px 2px rgba(60, 64, 67, 0.3), 0px 1px 3px 1px rgba(60, 64, 67, 0.15);\n",
              "      fill: #174EA6;\n",
              "    }\n",
              "\n",
              "    .colab-df-buttons div {\n",
              "      margin-bottom: 4px;\n",
              "    }\n",
              "\n",
              "    [theme=dark] .colab-df-convert {\n",
              "      background-color: #3B4455;\n",
              "      fill: #D2E3FC;\n",
              "    }\n",
              "\n",
              "    [theme=dark] .colab-df-convert:hover {\n",
              "      background-color: #434B5C;\n",
              "      box-shadow: 0px 1px 3px 1px rgba(0, 0, 0, 0.15);\n",
              "      filter: drop-shadow(0px 1px 2px rgba(0, 0, 0, 0.3));\n",
              "      fill: #FFFFFF;\n",
              "    }\n",
              "  </style>\n",
              "\n",
              "    <script>\n",
              "      const buttonEl =\n",
              "        document.querySelector('#df-77ce8909-f1b1-4a9b-a8a8-d6332abcee98 button.colab-df-convert');\n",
              "      buttonEl.style.display =\n",
              "        google.colab.kernel.accessAllowed ? 'block' : 'none';\n",
              "\n",
              "      async function convertToInteractive(key) {\n",
              "        const element = document.querySelector('#df-77ce8909-f1b1-4a9b-a8a8-d6332abcee98');\n",
              "        const dataTable =\n",
              "          await google.colab.kernel.invokeFunction('convertToInteractive',\n",
              "                                                    [key], {});\n",
              "        if (!dataTable) return;\n",
              "\n",
              "        const docLinkHtml = 'Like what you see? Visit the ' +\n",
              "          '<a target=\"_blank\" href=https://colab.research.google.com/notebooks/data_table.ipynb>data table notebook</a>'\n",
              "          + ' to learn more about interactive tables.';\n",
              "        element.innerHTML = '';\n",
              "        dataTable['output_type'] = 'display_data';\n",
              "        await google.colab.output.renderOutput(dataTable, element);\n",
              "        const docLink = document.createElement('div');\n",
              "        docLink.innerHTML = docLinkHtml;\n",
              "        element.appendChild(docLink);\n",
              "      }\n",
              "    </script>\n",
              "  </div>\n",
              "\n",
              "\n",
              "<div id=\"df-0156c6eb-35e5-4a49-b73b-79f6fc644f97\">\n",
              "  <button class=\"colab-df-quickchart\" onclick=\"quickchart('df-0156c6eb-35e5-4a49-b73b-79f6fc644f97')\"\n",
              "            title=\"Suggest charts\"\n",
              "            style=\"display:none;\">\n",
              "\n",
              "<svg xmlns=\"http://www.w3.org/2000/svg\" height=\"24px\"viewBox=\"0 0 24 24\"\n",
              "     width=\"24px\">\n",
              "    <g>\n",
              "        <path d=\"M19 3H5c-1.1 0-2 .9-2 2v14c0 1.1.9 2 2 2h14c1.1 0 2-.9 2-2V5c0-1.1-.9-2-2-2zM9 17H7v-7h2v7zm4 0h-2V7h2v10zm4 0h-2v-4h2v4z\"/>\n",
              "    </g>\n",
              "</svg>\n",
              "  </button>\n",
              "\n",
              "<style>\n",
              "  .colab-df-quickchart {\n",
              "      --bg-color: #E8F0FE;\n",
              "      --fill-color: #1967D2;\n",
              "      --hover-bg-color: #E2EBFA;\n",
              "      --hover-fill-color: #174EA6;\n",
              "      --disabled-fill-color: #AAA;\n",
              "      --disabled-bg-color: #DDD;\n",
              "  }\n",
              "\n",
              "  [theme=dark] .colab-df-quickchart {\n",
              "      --bg-color: #3B4455;\n",
              "      --fill-color: #D2E3FC;\n",
              "      --hover-bg-color: #434B5C;\n",
              "      --hover-fill-color: #FFFFFF;\n",
              "      --disabled-bg-color: #3B4455;\n",
              "      --disabled-fill-color: #666;\n",
              "  }\n",
              "\n",
              "  .colab-df-quickchart {\n",
              "    background-color: var(--bg-color);\n",
              "    border: none;\n",
              "    border-radius: 50%;\n",
              "    cursor: pointer;\n",
              "    display: none;\n",
              "    fill: var(--fill-color);\n",
              "    height: 32px;\n",
              "    padding: 0;\n",
              "    width: 32px;\n",
              "  }\n",
              "\n",
              "  .colab-df-quickchart:hover {\n",
              "    background-color: var(--hover-bg-color);\n",
              "    box-shadow: 0 1px 2px rgba(60, 64, 67, 0.3), 0 1px 3px 1px rgba(60, 64, 67, 0.15);\n",
              "    fill: var(--button-hover-fill-color);\n",
              "  }\n",
              "\n",
              "  .colab-df-quickchart-complete:disabled,\n",
              "  .colab-df-quickchart-complete:disabled:hover {\n",
              "    background-color: var(--disabled-bg-color);\n",
              "    fill: var(--disabled-fill-color);\n",
              "    box-shadow: none;\n",
              "  }\n",
              "\n",
              "  .colab-df-spinner {\n",
              "    border: 2px solid var(--fill-color);\n",
              "    border-color: transparent;\n",
              "    border-bottom-color: var(--fill-color);\n",
              "    animation:\n",
              "      spin 1s steps(1) infinite;\n",
              "  }\n",
              "\n",
              "  @keyframes spin {\n",
              "    0% {\n",
              "      border-color: transparent;\n",
              "      border-bottom-color: var(--fill-color);\n",
              "      border-left-color: var(--fill-color);\n",
              "    }\n",
              "    20% {\n",
              "      border-color: transparent;\n",
              "      border-left-color: var(--fill-color);\n",
              "      border-top-color: var(--fill-color);\n",
              "    }\n",
              "    30% {\n",
              "      border-color: transparent;\n",
              "      border-left-color: var(--fill-color);\n",
              "      border-top-color: var(--fill-color);\n",
              "      border-right-color: var(--fill-color);\n",
              "    }\n",
              "    40% {\n",
              "      border-color: transparent;\n",
              "      border-right-color: var(--fill-color);\n",
              "      border-top-color: var(--fill-color);\n",
              "    }\n",
              "    60% {\n",
              "      border-color: transparent;\n",
              "      border-right-color: var(--fill-color);\n",
              "    }\n",
              "    80% {\n",
              "      border-color: transparent;\n",
              "      border-right-color: var(--fill-color);\n",
              "      border-bottom-color: var(--fill-color);\n",
              "    }\n",
              "    90% {\n",
              "      border-color: transparent;\n",
              "      border-bottom-color: var(--fill-color);\n",
              "    }\n",
              "  }\n",
              "</style>\n",
              "\n",
              "  <script>\n",
              "    async function quickchart(key) {\n",
              "      const quickchartButtonEl =\n",
              "        document.querySelector('#' + key + ' button');\n",
              "      quickchartButtonEl.disabled = true;  // To prevent multiple clicks.\n",
              "      quickchartButtonEl.classList.add('colab-df-spinner');\n",
              "      try {\n",
              "        const charts = await google.colab.kernel.invokeFunction(\n",
              "            'suggestCharts', [key], {});\n",
              "      } catch (error) {\n",
              "        console.error('Error during call to suggestCharts:', error);\n",
              "      }\n",
              "      quickchartButtonEl.classList.remove('colab-df-spinner');\n",
              "      quickchartButtonEl.classList.add('colab-df-quickchart-complete');\n",
              "    }\n",
              "    (() => {\n",
              "      let quickchartButtonEl =\n",
              "        document.querySelector('#df-0156c6eb-35e5-4a49-b73b-79f6fc644f97 button');\n",
              "      quickchartButtonEl.style.display =\n",
              "        google.colab.kernel.accessAllowed ? 'block' : 'none';\n",
              "    })();\n",
              "  </script>\n",
              "</div>\n",
              "\n",
              "    </div>\n",
              "  </div>\n"
            ],
            "application/vnd.google.colaboratory.intrinsic+json": {
              "type": "dataframe",
              "summary": "{\n  \"name\": \"text[\\\"text\\\"]\",\n  \"rows\": 2,\n  \"fields\": [\n    {\n      \"column\": \"a\",\n      \"properties\": {\n        \"dtype\": \"number\",\n        \"std\": 0,\n        \"min\": 1,\n        \"max\": 1,\n        \"num_unique_values\": 1,\n        \"samples\": [\n          1\n        ],\n        \"semantic_type\": \"\",\n        \"description\": \"\"\n      }\n    },\n    {\n      \"column\": \"aprender\",\n      \"properties\": {\n        \"dtype\": \"number\",\n        \"std\": 0,\n        \"min\": 0,\n        \"max\": 1,\n        \"num_unique_values\": 2,\n        \"samples\": [\n          0\n        ],\n        \"semantic_type\": \"\",\n        \"description\": \"\"\n      }\n    },\n    {\n      \"column\": \"come\\u00e7ando\",\n      \"properties\": {\n        \"dtype\": \"number\",\n        \"std\": 0,\n        \"min\": 1,\n        \"max\": 1,\n        \"num_unique_values\": 1,\n        \"samples\": [\n          1\n        ],\n        \"semantic_type\": \"\",\n        \"description\": \"\"\n      }\n    },\n    {\n      \"column\": \"esteja\",\n      \"properties\": {\n        \"dtype\": \"number\",\n        \"std\": 0,\n        \"min\": 0,\n        \"max\": 1,\n        \"num_unique_values\": 2,\n        \"samples\": [\n          1\n        ],\n        \"semantic_type\": \"\",\n        \"description\": \"\"\n      }\n    },\n    {\n      \"column\": \"est\\u00e1\",\n      \"properties\": {\n        \"dtype\": \"number\",\n        \"std\": 0,\n        \"min\": 0,\n        \"max\": 1,\n        \"num_unique_values\": 2,\n        \"samples\": [\n          0\n        ],\n        \"semantic_type\": \"\",\n        \"description\": \"\"\n      }\n    },\n    {\n      \"column\": \"gostar\",\n      \"properties\": {\n        \"dtype\": \"number\",\n        \"std\": 0,\n        \"min\": 0,\n        \"max\": 1,\n        \"num_unique_values\": 2,\n        \"samples\": [\n          1\n        ],\n        \"semantic_type\": \"\",\n        \"description\": \"\"\n      }\n    },\n    {\n      \"column\": \"talvez\",\n      \"properties\": {\n        \"dtype\": \"number\",\n        \"std\": 0,\n        \"min\": 0,\n        \"max\": 1,\n        \"num_unique_values\": 2,\n        \"samples\": [\n          1\n        ],\n        \"semantic_type\": \"\",\n        \"description\": \"\"\n      }\n    },\n    {\n      \"column\": \"transformers\",\n      \"properties\": {\n        \"dtype\": \"number\",\n        \"std\": 0,\n        \"min\": 0,\n        \"max\": 1,\n        \"num_unique_values\": 2,\n        \"samples\": [\n          0\n        ],\n        \"semantic_type\": \"\",\n        \"description\": \"\"\n      }\n    },\n    {\n      \"column\": \"voc\\u00ea\",\n      \"properties\": {\n        \"dtype\": \"number\",\n        \"std\": 0,\n        \"min\": 1,\n        \"max\": 1,\n        \"num_unique_values\": 1,\n        \"samples\": [\n          1\n        ],\n        \"semantic_type\": \"\",\n        \"description\": \"\"\n      }\n    }\n  ]\n}"
            }
          },
          "metadata": {},
          "execution_count": 4
        }
      ]
    },
    {
      "cell_type": "markdown",
      "source": [
        "# **Efficient Tokenization**"
      ],
      "metadata": {
        "id": "imkUxmPzKT-S"
      }
    },
    {
      "cell_type": "code",
      "source": [
        "!pip install tiktoken"
      ],
      "metadata": {
        "colab": {
          "base_uri": "https://localhost:8080/"
        },
        "id": "KJOt7DFlJlbF",
        "outputId": "0e38d477-5166-44c0-dcfc-6c4e91d4b4f3"
      },
      "execution_count": 5,
      "outputs": [
        {
          "output_type": "stream",
          "name": "stdout",
          "text": [
            "Collecting tiktoken\n",
            "  Downloading tiktoken-0.9.0-cp311-cp311-manylinux_2_17_x86_64.manylinux2014_x86_64.whl.metadata (6.7 kB)\n",
            "Requirement already satisfied: regex>=2022.1.18 in /usr/local/lib/python3.11/dist-packages (from tiktoken) (2024.11.6)\n",
            "Requirement already satisfied: requests>=2.26.0 in /usr/local/lib/python3.11/dist-packages (from tiktoken) (2.32.3)\n",
            "Requirement already satisfied: charset-normalizer<4,>=2 in /usr/local/lib/python3.11/dist-packages (from requests>=2.26.0->tiktoken) (3.4.1)\n",
            "Requirement already satisfied: idna<4,>=2.5 in /usr/local/lib/python3.11/dist-packages (from requests>=2.26.0->tiktoken) (3.10)\n",
            "Requirement already satisfied: urllib3<3,>=1.21.1 in /usr/local/lib/python3.11/dist-packages (from requests>=2.26.0->tiktoken) (2.3.0)\n",
            "Requirement already satisfied: certifi>=2017.4.17 in /usr/local/lib/python3.11/dist-packages (from requests>=2.26.0->tiktoken) (2025.1.31)\n",
            "Downloading tiktoken-0.9.0-cp311-cp311-manylinux_2_17_x86_64.manylinux2014_x86_64.whl (1.2 MB)\n",
            "\u001b[2K   \u001b[90m━━━━━━━━━━━━━━━━━━━━━━━━━━━━━━━━━━━━━━━━\u001b[0m \u001b[32m1.2/1.2 MB\u001b[0m \u001b[31m10.4 MB/s\u001b[0m eta \u001b[36m0:00:00\u001b[0m\n",
            "\u001b[?25hInstalling collected packages: tiktoken\n",
            "Successfully installed tiktoken-0.9.0\n"
          ]
        }
      ]
    },
    {
      "cell_type": "code",
      "source": [
        "import tiktoken\n",
        "enc = tiktoken.get_encoding(\"gpt2\")\n",
        "enc.encode(\"vamos aprender a jogar dota\")"
      ],
      "metadata": {
        "colab": {
          "base_uri": "https://localhost:8080/"
        },
        "id": "1gVyWJltLlRp",
        "outputId": "f6691e79-649a-4d54-dff7-6f0eaadcdf7e"
      },
      "execution_count": 9,
      "outputs": [
        {
          "output_type": "execute_result",
          "data": {
            "text/plain": [
              "[85, 321, 418, 2471, 13287, 257, 48342, 283, 288, 4265]"
            ]
          },
          "metadata": {},
          "execution_count": 9
        }
      ]
    },
    {
      "cell_type": "code",
      "source": [
        "print(encode(\"vamos aprender a jogar dota\"))"
      ],
      "metadata": {
        "id": "Z353hR7pMdm1",
        "colab": {
          "base_uri": "https://localhost:8080/"
        },
        "outputId": "077630dc-88b4-4421-ce3c-e1994a90ec9b"
      },
      "execution_count": 10,
      "outputs": [
        {
          "output_type": "stream",
          "name": "stdout",
          "text": [
            "[18, 2, 10, 12, 15, 0, 2, 13, 14, 5, 11, 4, 5, 14, 0, 2, 0, 9, 12, 7, 2, 14, 0, 4, 12, 16, 2]\n"
          ]
        }
      ]
    },
    {
      "cell_type": "markdown",
      "source": [
        "# **What's the next undertaking?Comprehend the next sequence based on the previous one**"
      ],
      "metadata": {
        "id": "adKUWdoLemAR"
      }
    },
    {
      "cell_type": "code",
      "source": [
        "text = encode(\"vamos aprender transformers\")\n",
        "print(len(text))"
      ],
      "metadata": {
        "colab": {
          "base_uri": "https://localhost:8080/"
        },
        "id": "--j6ZzfBdzKv",
        "outputId": "2568ee8d-7360-4b96-b5cd-5820866e413e"
      },
      "execution_count": 16,
      "outputs": [
        {
          "output_type": "stream",
          "name": "stdout",
          "text": [
            "27\n"
          ]
        }
      ]
    },
    {
      "cell_type": "markdown",
      "source": [
        "# **GPT's way of doing it**"
      ],
      "metadata": {
        "id": "gqjqV4CZg1Na"
      }
    },
    {
      "cell_type": "code",
      "source": [
        "for i in range(len(text) -1):\n",
        "  x = text[:i]\n",
        "  y = text[i + 1]\n",
        "  if x != []:\n",
        "    print(f\"Quando os dados forem {x} o alvo é {y}\")"
      ],
      "metadata": {
        "colab": {
          "base_uri": "https://localhost:8080/"
        },
        "id": "OTobAAm8e3KS",
        "outputId": "4c152167-0d95-4e16-cca5-373167067469"
      },
      "execution_count": 17,
      "outputs": [
        {
          "output_type": "stream",
          "name": "stdout",
          "text": [
            "Quando os dados forem [18] o alvo é 10\n",
            "Quando os dados forem [18, 2] o alvo é 12\n",
            "Quando os dados forem [18, 2, 10] o alvo é 15\n",
            "Quando os dados forem [18, 2, 10, 12] o alvo é 0\n",
            "Quando os dados forem [18, 2, 10, 12, 15] o alvo é 2\n",
            "Quando os dados forem [18, 2, 10, 12, 15, 0] o alvo é 13\n",
            "Quando os dados forem [18, 2, 10, 12, 15, 0, 2] o alvo é 14\n",
            "Quando os dados forem [18, 2, 10, 12, 15, 0, 2, 13] o alvo é 5\n",
            "Quando os dados forem [18, 2, 10, 12, 15, 0, 2, 13, 14] o alvo é 11\n",
            "Quando os dados forem [18, 2, 10, 12, 15, 0, 2, 13, 14, 5] o alvo é 4\n",
            "Quando os dados forem [18, 2, 10, 12, 15, 0, 2, 13, 14, 5, 11] o alvo é 5\n",
            "Quando os dados forem [18, 2, 10, 12, 15, 0, 2, 13, 14, 5, 11, 4] o alvo é 14\n",
            "Quando os dados forem [18, 2, 10, 12, 15, 0, 2, 13, 14, 5, 11, 4, 5] o alvo é 0\n",
            "Quando os dados forem [18, 2, 10, 12, 15, 0, 2, 13, 14, 5, 11, 4, 5, 14] o alvo é 16\n",
            "Quando os dados forem [18, 2, 10, 12, 15, 0, 2, 13, 14, 5, 11, 4, 5, 14, 0] o alvo é 14\n",
            "Quando os dados forem [18, 2, 10, 12, 15, 0, 2, 13, 14, 5, 11, 4, 5, 14, 0, 16] o alvo é 2\n",
            "Quando os dados forem [18, 2, 10, 12, 15, 0, 2, 13, 14, 5, 11, 4, 5, 14, 0, 16, 14] o alvo é 11\n",
            "Quando os dados forem [18, 2, 10, 12, 15, 0, 2, 13, 14, 5, 11, 4, 5, 14, 0, 16, 14, 2] o alvo é 15\n",
            "Quando os dados forem [18, 2, 10, 12, 15, 0, 2, 13, 14, 5, 11, 4, 5, 14, 0, 16, 14, 2, 11] o alvo é 6\n",
            "Quando os dados forem [18, 2, 10, 12, 15, 0, 2, 13, 14, 5, 11, 4, 5, 14, 0, 16, 14, 2, 11, 15] o alvo é 12\n",
            "Quando os dados forem [18, 2, 10, 12, 15, 0, 2, 13, 14, 5, 11, 4, 5, 14, 0, 16, 14, 2, 11, 15, 6] o alvo é 14\n",
            "Quando os dados forem [18, 2, 10, 12, 15, 0, 2, 13, 14, 5, 11, 4, 5, 14, 0, 16, 14, 2, 11, 15, 6, 12] o alvo é 10\n",
            "Quando os dados forem [18, 2, 10, 12, 15, 0, 2, 13, 14, 5, 11, 4, 5, 14, 0, 16, 14, 2, 11, 15, 6, 12, 14] o alvo é 5\n",
            "Quando os dados forem [18, 2, 10, 12, 15, 0, 2, 13, 14, 5, 11, 4, 5, 14, 0, 16, 14, 2, 11, 15, 6, 12, 14, 10] o alvo é 14\n",
            "Quando os dados forem [18, 2, 10, 12, 15, 0, 2, 13, 14, 5, 11, 4, 5, 14, 0, 16, 14, 2, 11, 15, 6, 12, 14, 10, 5] o alvo é 15\n"
          ]
        }
      ]
    },
    {
      "cell_type": "markdown",
      "source": [
        "# **BERT's way**"
      ],
      "metadata": {
        "id": "B68SkYGehwmp"
      }
    },
    {
      "cell_type": "code",
      "source": [
        "from random import randint\n",
        "\n",
        "for i in range(len(text)):\n",
        "  x = text\n",
        "  y = text.copy()\n",
        "  idx_mask = randint(0, len(text) -1)\n",
        "  y[idx_mask] = '<mask>'\n",
        "  print(f\"Quando os dados forem {x} o alvo é {y}\")"
      ],
      "metadata": {
        "colab": {
          "base_uri": "https://localhost:8080/"
        },
        "id": "htKWkoCuhZGf",
        "outputId": "077aeec1-05cd-4670-8e78-f8fef6d70d76"
      },
      "execution_count": 18,
      "outputs": [
        {
          "output_type": "stream",
          "name": "stdout",
          "text": [
            "Quando os dados forem [18, 2, 10, 12, 15, 0, 2, 13, 14, 5, 11, 4, 5, 14, 0, 16, 14, 2, 11, 15, 6, 12, 14, 10, 5, 14, 15] o alvo é [18, 2, 10, 12, 15, 0, 2, 13, 14, 5, 11, 4, 5, 14, 0, '<mask>', 14, 2, 11, 15, 6, 12, 14, 10, 5, 14, 15]\n",
            "Quando os dados forem [18, 2, 10, 12, 15, 0, 2, 13, 14, 5, 11, 4, 5, 14, 0, 16, 14, 2, 11, 15, 6, 12, 14, 10, 5, 14, 15] o alvo é [18, 2, 10, 12, 15, 0, 2, 13, 14, 5, 11, 4, 5, 14, 0, 16, 14, 2, 11, 15, 6, '<mask>', 14, 10, 5, 14, 15]\n",
            "Quando os dados forem [18, 2, 10, 12, 15, 0, 2, 13, 14, 5, 11, 4, 5, 14, 0, 16, 14, 2, 11, 15, 6, 12, 14, 10, 5, 14, 15] o alvo é [18, 2, 10, '<mask>', 15, 0, 2, 13, 14, 5, 11, 4, 5, 14, 0, 16, 14, 2, 11, 15, 6, 12, 14, 10, 5, 14, 15]\n",
            "Quando os dados forem [18, 2, 10, 12, 15, 0, 2, 13, 14, 5, 11, 4, 5, 14, 0, 16, 14, 2, 11, 15, 6, 12, 14, 10, 5, 14, 15] o alvo é [18, 2, 10, 12, 15, 0, 2, 13, 14, 5, 11, 4, 5, 14, 0, 16, 14, 2, 11, 15, 6, 12, 14, 10, 5, '<mask>', 15]\n",
            "Quando os dados forem [18, 2, 10, 12, 15, 0, 2, 13, 14, 5, 11, 4, 5, 14, 0, 16, 14, 2, 11, 15, 6, 12, 14, 10, 5, 14, 15] o alvo é [18, '<mask>', 10, 12, 15, 0, 2, 13, 14, 5, 11, 4, 5, 14, 0, 16, 14, 2, 11, 15, 6, 12, 14, 10, 5, 14, 15]\n",
            "Quando os dados forem [18, 2, 10, 12, 15, 0, 2, 13, 14, 5, 11, 4, 5, 14, 0, 16, 14, 2, 11, 15, 6, 12, 14, 10, 5, 14, 15] o alvo é [18, 2, 10, 12, 15, 0, 2, 13, 14, 5, 11, 4, 5, 14, 0, '<mask>', 14, 2, 11, 15, 6, 12, 14, 10, 5, 14, 15]\n",
            "Quando os dados forem [18, 2, 10, 12, 15, 0, 2, 13, 14, 5, 11, 4, 5, 14, 0, 16, 14, 2, 11, 15, 6, 12, 14, 10, 5, 14, 15] o alvo é [18, 2, 10, 12, 15, 0, 2, 13, 14, 5, 11, 4, 5, 14, 0, 16, 14, 2, '<mask>', 15, 6, 12, 14, 10, 5, 14, 15]\n",
            "Quando os dados forem [18, 2, 10, 12, 15, 0, 2, 13, 14, 5, 11, 4, 5, 14, 0, 16, 14, 2, 11, 15, 6, 12, 14, 10, 5, 14, 15] o alvo é [18, 2, 10, '<mask>', 15, 0, 2, 13, 14, 5, 11, 4, 5, 14, 0, 16, 14, 2, 11, 15, 6, 12, 14, 10, 5, 14, 15]\n",
            "Quando os dados forem [18, 2, 10, 12, 15, 0, 2, 13, 14, 5, 11, 4, 5, 14, 0, 16, 14, 2, 11, 15, 6, 12, 14, 10, 5, 14, 15] o alvo é [18, 2, 10, 12, 15, 0, 2, 13, 14, 5, 11, 4, 5, 14, 0, 16, 14, '<mask>', 11, 15, 6, 12, 14, 10, 5, 14, 15]\n",
            "Quando os dados forem [18, 2, 10, 12, 15, 0, 2, 13, 14, 5, 11, 4, 5, 14, 0, 16, 14, 2, 11, 15, 6, 12, 14, 10, 5, 14, 15] o alvo é [18, 2, 10, 12, '<mask>', 0, 2, 13, 14, 5, 11, 4, 5, 14, 0, 16, 14, 2, 11, 15, 6, 12, 14, 10, 5, 14, 15]\n",
            "Quando os dados forem [18, 2, 10, 12, 15, 0, 2, 13, 14, 5, 11, 4, 5, 14, 0, 16, 14, 2, 11, 15, 6, 12, 14, 10, 5, 14, 15] o alvo é ['<mask>', 2, 10, 12, 15, 0, 2, 13, 14, 5, 11, 4, 5, 14, 0, 16, 14, 2, 11, 15, 6, 12, 14, 10, 5, 14, 15]\n",
            "Quando os dados forem [18, 2, 10, 12, 15, 0, 2, 13, 14, 5, 11, 4, 5, 14, 0, 16, 14, 2, 11, 15, 6, 12, 14, 10, 5, 14, 15] o alvo é [18, 2, 10, 12, 15, 0, 2, 13, 14, 5, 11, 4, 5, 14, 0, 16, 14, 2, 11, 15, 6, 12, 14, 10, 5, '<mask>', 15]\n",
            "Quando os dados forem [18, 2, 10, 12, 15, 0, 2, 13, 14, 5, 11, 4, 5, 14, 0, 16, 14, 2, 11, 15, 6, 12, 14, 10, 5, 14, 15] o alvo é [18, '<mask>', 10, 12, 15, 0, 2, 13, 14, 5, 11, 4, 5, 14, 0, 16, 14, 2, 11, 15, 6, 12, 14, 10, 5, 14, 15]\n",
            "Quando os dados forem [18, 2, 10, 12, 15, 0, 2, 13, 14, 5, 11, 4, 5, 14, 0, 16, 14, 2, 11, 15, 6, 12, 14, 10, 5, 14, 15] o alvo é [18, 2, 10, 12, 15, 0, 2, 13, '<mask>', 5, 11, 4, 5, 14, 0, 16, 14, 2, 11, 15, 6, 12, 14, 10, 5, 14, 15]\n",
            "Quando os dados forem [18, 2, 10, 12, 15, 0, 2, 13, 14, 5, 11, 4, 5, 14, 0, 16, 14, 2, 11, 15, 6, 12, 14, 10, 5, 14, 15] o alvo é [18, 2, 10, 12, 15, 0, 2, '<mask>', 14, 5, 11, 4, 5, 14, 0, 16, 14, 2, 11, 15, 6, 12, 14, 10, 5, 14, 15]\n",
            "Quando os dados forem [18, 2, 10, 12, 15, 0, 2, 13, 14, 5, 11, 4, 5, 14, 0, 16, 14, 2, 11, 15, 6, 12, 14, 10, 5, 14, 15] o alvo é [18, 2, 10, 12, 15, 0, 2, 13, '<mask>', 5, 11, 4, 5, 14, 0, 16, 14, 2, 11, 15, 6, 12, 14, 10, 5, 14, 15]\n",
            "Quando os dados forem [18, 2, 10, 12, 15, 0, 2, 13, 14, 5, 11, 4, 5, 14, 0, 16, 14, 2, 11, 15, 6, 12, 14, 10, 5, 14, 15] o alvo é [18, 2, 10, 12, 15, 0, 2, 13, 14, '<mask>', 11, 4, 5, 14, 0, 16, 14, 2, 11, 15, 6, 12, 14, 10, 5, 14, 15]\n",
            "Quando os dados forem [18, 2, 10, 12, 15, 0, 2, 13, 14, 5, 11, 4, 5, 14, 0, 16, 14, 2, 11, 15, 6, 12, 14, 10, 5, 14, 15] o alvo é [18, 2, 10, 12, 15, 0, 2, 13, 14, 5, 11, 4, 5, 14, '<mask>', 16, 14, 2, 11, 15, 6, 12, 14, 10, 5, 14, 15]\n",
            "Quando os dados forem [18, 2, 10, 12, 15, 0, 2, 13, 14, 5, 11, 4, 5, 14, 0, 16, 14, 2, 11, 15, 6, 12, 14, 10, 5, 14, 15] o alvo é [18, 2, 10, 12, 15, 0, 2, 13, '<mask>', 5, 11, 4, 5, 14, 0, 16, 14, 2, 11, 15, 6, 12, 14, 10, 5, 14, 15]\n",
            "Quando os dados forem [18, 2, 10, 12, 15, 0, 2, 13, 14, 5, 11, 4, 5, 14, 0, 16, 14, 2, 11, 15, 6, 12, 14, 10, 5, 14, 15] o alvo é [18, 2, 10, 12, 15, 0, 2, 13, 14, '<mask>', 11, 4, 5, 14, 0, 16, 14, 2, 11, 15, 6, 12, 14, 10, 5, 14, 15]\n",
            "Quando os dados forem [18, 2, 10, 12, 15, 0, 2, 13, 14, 5, 11, 4, 5, 14, 0, 16, 14, 2, 11, 15, 6, 12, 14, 10, 5, 14, 15] o alvo é [18, 2, 10, 12, 15, 0, 2, 13, 14, 5, 11, 4, 5, 14, 0, 16, 14, 2, 11, 15, 6, '<mask>', 14, 10, 5, 14, 15]\n",
            "Quando os dados forem [18, 2, 10, 12, 15, 0, 2, 13, 14, 5, 11, 4, 5, 14, 0, 16, 14, 2, 11, 15, 6, 12, 14, 10, 5, 14, 15] o alvo é [18, 2, 10, 12, 15, '<mask>', 2, 13, 14, 5, 11, 4, 5, 14, 0, 16, 14, 2, 11, 15, 6, 12, 14, 10, 5, 14, 15]\n",
            "Quando os dados forem [18, 2, 10, 12, 15, 0, 2, 13, 14, 5, 11, 4, 5, 14, 0, 16, 14, 2, 11, 15, 6, 12, 14, 10, 5, 14, 15] o alvo é [18, 2, 10, 12, 15, 0, 2, 13, 14, 5, 11, 4, 5, '<mask>', 0, 16, 14, 2, 11, 15, 6, 12, 14, 10, 5, 14, 15]\n",
            "Quando os dados forem [18, 2, 10, 12, 15, 0, 2, 13, 14, 5, 11, 4, 5, 14, 0, 16, 14, 2, 11, 15, 6, 12, 14, 10, 5, 14, 15] o alvo é [18, 2, 10, 12, 15, 0, 2, '<mask>', 14, 5, 11, 4, 5, 14, 0, 16, 14, 2, 11, 15, 6, 12, 14, 10, 5, 14, 15]\n",
            "Quando os dados forem [18, 2, 10, 12, 15, 0, 2, 13, 14, 5, 11, 4, 5, 14, 0, 16, 14, 2, 11, 15, 6, 12, 14, 10, 5, 14, 15] o alvo é [18, 2, 10, 12, 15, 0, 2, 13, 14, 5, 11, 4, 5, 14, 0, 16, 14, 2, 11, 15, 6, 12, 14, 10, '<mask>', 14, 15]\n",
            "Quando os dados forem [18, 2, 10, 12, 15, 0, 2, 13, 14, 5, 11, 4, 5, 14, 0, 16, 14, 2, 11, 15, 6, 12, 14, 10, 5, 14, 15] o alvo é ['<mask>', 2, 10, 12, 15, 0, 2, 13, 14, 5, 11, 4, 5, 14, 0, 16, 14, 2, 11, 15, 6, 12, 14, 10, 5, 14, 15]\n",
            "Quando os dados forem [18, 2, 10, 12, 15, 0, 2, 13, 14, 5, 11, 4, 5, 14, 0, 16, 14, 2, 11, 15, 6, 12, 14, 10, 5, 14, 15] o alvo é [18, 2, 10, 12, 15, 0, 2, 13, 14, 5, 11, 4, 5, 14, 0, 16, 14, 2, '<mask>', 15, 6, 12, 14, 10, 5, 14, 15]\n"
          ]
        }
      ]
    },
    {
      "cell_type": "code",
      "source": [],
      "metadata": {
        "id": "bnZ64RT6jdRO"
      },
      "execution_count": null,
      "outputs": []
    }
  ]
}
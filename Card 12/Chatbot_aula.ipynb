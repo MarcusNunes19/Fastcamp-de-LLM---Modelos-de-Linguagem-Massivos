{
  "nbformat": 4,
  "nbformat_minor": 0,
  "metadata": {
    "colab": {
      "provenance": []
    },
    "kernelspec": {
      "name": "python3",
      "display_name": "Python 3"
    },
    "language_info": {
      "name": "python"
    }
  },
  "cells": [
    {
      "cell_type": "code",
      "execution_count": null,
      "metadata": {
        "id": "ga60KzCD1CDb"
      },
      "outputs": [],
      "source": [
        "from google.colab import userdata"
      ]
    },
    {
      "cell_type": "code",
      "source": [
        "!pip install -qU langchain-Groq"
      ],
      "metadata": {
        "id": "e7bQGsJF1nCv"
      },
      "execution_count": null,
      "outputs": []
    },
    {
      "cell_type": "code",
      "source": [
        "import os\n",
        "from langchain.prompts import PromptTemplate\n",
        "from langchain_groq import ChatGroq\n",
        "from langchain.chains import LLMChain"
      ],
      "metadata": {
        "id": "ir10ymyO3ATR"
      },
      "execution_count": null,
      "outputs": []
    },
    {
      "cell_type": "markdown",
      "source": [
        "# **Making a simple Chat**"
      ],
      "metadata": {
        "id": "6dQriYvH5grU"
      }
    },
    {
      "cell_type": "code",
      "source": [
        "\n",
        "os.environ[\"GROQ_API_KEY\"] = userdata.get(\"Croq\")\n",
        "\n",
        "prompt = PromptTemplate(\n",
        "    input_variables = {'Cidade'},\n",
        "    template = \"Descreva um dia bastante legal na cidade {Cidade}\"\n",
        ")\n",
        "\n",
        "prompt2 = PromptTemplate(\n",
        "    template= \"Você é chatbot amigável, mas seja curto\"\n",
        ")\n",
        "\n",
        "llm = ChatGroq(\n",
        "    model=\"llama3-8b-8192\",\n",
        "    temperature = 0.9)\n",
        "\n",
        "llm_chain = LLMChain(llm= llm, prompt= prompt)\n",
        "llm_chain.run(\"Belém do Pará\")\n",
        "\n"
      ],
      "metadata": {
        "id": "CSk0fphl1Qd8"
      },
      "execution_count": null,
      "outputs": []
    },
    {
      "cell_type": "code",
      "source": [
        "!pip install -U langchain-community"
      ],
      "metadata": {
        "id": "N8mtHhtp6t_P"
      },
      "execution_count": null,
      "outputs": []
    },
    {
      "cell_type": "code",
      "source": [
        "from langchain.agents import get_all_tool_names\n",
        "\n",
        "print(get_all_tool_names())"
      ],
      "metadata": {
        "colab": {
          "base_uri": "https://localhost:8080/"
        },
        "id": "MydRGtbi7C5G",
        "outputId": "4aa0b7e6-d030-4bff-f532-ebe2ec4c6da7"
      },
      "execution_count": null,
      "outputs": [
        {
          "output_type": "stream",
          "name": "stdout",
          "text": [
            "['sleep', 'wolfram-alpha', 'google-search', 'google-search-results-json', 'searx-search-results-json', 'bing-search', 'metaphor-search', 'ddg-search', 'google-books', 'google-lens', 'google-serper', 'google-scholar', 'google-finance', 'google-trends', 'google-jobs', 'google-serper-results-json', 'searchapi', 'searchapi-results-json', 'serpapi', 'dalle-image-generator', 'twilio', 'searx-search', 'merriam-webster', 'wikipedia', 'arxiv', 'golden-query', 'pubmed', 'human', 'awslambda', 'stackexchange', 'sceneXplain', 'graphql', 'openweathermap-api', 'dataforseo-api-search', 'dataforseo-api-search-json', 'eleven_labs_text2speech', 'google_cloud_texttospeech', 'read_file', 'reddit_search', 'news-api', 'tmdb-api', 'podcast-api', 'memorize', 'llm-math', 'open-meteo-api', 'requests', 'requests_get', 'requests_post', 'requests_patch', 'requests_put', 'requests_delete', 'terminal']\n"
          ]
        }
      ]
    },
    {
      "cell_type": "markdown",
      "source": [
        "# **Making a simple Agent**"
      ],
      "metadata": {
        "id": "vvPHxCIq5mQ0"
      }
    },
    {
      "cell_type": "code",
      "source": [
        "from langchain.agents import initialize_agent, AgentType, load_tools\n",
        "\n",
        "tools = load_tools([\"llm-math\"], llm=llm)\n",
        "\n",
        "agent = initialize_agent(tools, llm, agent= AgentType.ZERO_SHOT_REACT_DESCRIPTION, verbose =True)\n",
        "\n",
        "response = agent.run(\"Eu tenho 20 anos, tiro 7 e adiciono 5, eu fico com quanto?\")\n",
        "print(response)"
      ],
      "metadata": {
        "id": "bJNEqWzm1ZVk"
      },
      "execution_count": null,
      "outputs": []
    },
    {
      "cell_type": "markdown",
      "source": [
        "# **Making a chatbot with memory**"
      ],
      "metadata": {
        "id": "2AGUNUWMqrJy"
      }
    },
    {
      "cell_type": "code",
      "source": [
        "from langchain_core.chat_history import BaseChatMessageHistory\n",
        "from langchain_core.messages import HumanMessage\n",
        "from langchain_core.runnables.history import RunnableWithMessageHistory\n",
        "from langchain.memory.chat_message_histories import ChatMessageHistory\n",
        "from langchain_core.runnables import Runnable\n",
        "\n",
        "memory = {}\n",
        "\n",
        "def get_memory(session_id: str) -> BaseChatMessageHistory:\n",
        "  if session_id not in memory:\n",
        "    memory[session_id]= ChatMessageHistory()\n",
        "  return memory[session_id]"
      ],
      "metadata": {
        "id": "cMQA4rLDTP4J"
      },
      "execution_count": null,
      "outputs": []
    },
    {
      "cell_type": "code",
      "source": [
        "runnable_with_history= RunnableWithMessageHistory(\n",
        "    runnable= llm,\n",
        "    get_session_history= get_memory\n",
        ")"
      ],
      "metadata": {
        "id": "uM6DkyLSlJ7H"
      },
      "execution_count": null,
      "outputs": []
    },
    {
      "cell_type": "code",
      "source": [
        "runnable_with_history.invoke(\n",
        "    [HumanMessage(content= \"Meu jogo favorito é Mario\")],\n",
        "    config= {\"configurable\": {\"session_id\":\"1\"}}\n",
        ")"
      ],
      "metadata": {
        "colab": {
          "base_uri": "https://localhost:8080/"
        },
        "id": "V005rRp2o3FK",
        "outputId": "28c28427-49c6-4219-e7ba-333c020df718"
      },
      "execution_count": null,
      "outputs": [
        {
          "output_type": "execute_result",
          "data": {
            "text/plain": [
              "AIMessage(content='Um clássico!\\n\\nMario é um dos jogos mais iconicos e amados da história do videogame. Quem não se lembrava de saltar e correr em mundo de Super Mario Bros. em uma NES?\\n\\nVocê é um fã dos jogos de plataforma clássicos de Mario, ou você também gosta dos jogos de estratégia, como Mario Kart ou Mario Party?', additional_kwargs={}, response_metadata={'token_usage': {'completion_tokens': 86, 'prompt_tokens': 17, 'total_tokens': 103, 'completion_time': 0.149635997, 'prompt_time': 0.009521391, 'queue_time': 0.19594488000000002, 'total_time': 0.159157388}, 'model_name': 'llama3-8b-8192', 'system_fingerprint': 'fp_0fb809dba3', 'service_tier': 'on_demand', 'finish_reason': 'stop', 'logprobs': None}, id='run--11435f73-3971-4183-998e-7110c488a6f0-0', usage_metadata={'input_tokens': 17, 'output_tokens': 86, 'total_tokens': 103})"
            ]
          },
          "metadata": {},
          "execution_count": 23
        }
      ]
    },
    {
      "cell_type": "code",
      "source": [
        "runnable_with_history.invoke(\n",
        "    [HumanMessage(content= \"Qual era meu jogo favorito?\")],\n",
        "    config= {\"configurable\": {\"session_id\": \"1\"}}\n",
        ")"
      ],
      "metadata": {
        "colab": {
          "base_uri": "https://localhost:8080/"
        },
        "id": "sjNiTmTmpgTa",
        "outputId": "41bdb643-c5a5-451f-f02a-8e0ec2cb31a5"
      },
      "execution_count": null,
      "outputs": [
        {
          "output_type": "execute_result",
          "data": {
            "text/plain": [
              "AIMessage(content='Você mencionou que o seu jogo favorito é o Mario!', additional_kwargs={}, response_metadata={'token_usage': {'completion_tokens': 15, 'prompt_tokens': 119, 'total_tokens': 134, 'completion_time': 0.010525935, 'prompt_time': 0.021275205, 'queue_time': 0.304756231, 'total_time': 0.03180114}, 'model_name': 'llama3-8b-8192', 'system_fingerprint': 'fp_8dc6ecaf8e', 'service_tier': 'on_demand', 'finish_reason': 'stop', 'logprobs': None}, id='run--ae1af504-cec8-4579-ae1b-3e907c405f09-0', usage_metadata={'input_tokens': 119, 'output_tokens': 15, 'total_tokens': 134})"
            ]
          },
          "metadata": {},
          "execution_count": 25
        }
      ]
    },
    {
      "cell_type": "code",
      "source": [
        "print(memory)"
      ],
      "metadata": {
        "colab": {
          "base_uri": "https://localhost:8080/"
        },
        "id": "BVp_zcLjqASP",
        "outputId": "05c90c7e-5064-4b88-b5e1-2d825c5ffec5"
      },
      "execution_count": null,
      "outputs": [
        {
          "output_type": "stream",
          "name": "stdout",
          "text": [
            "{'1': InMemoryChatMessageHistory(messages=[HumanMessage(content='Meu jogo favorito é Mario', additional_kwargs={}, response_metadata={}), AIMessage(content='Um clássico!\\n\\nMario é um dos jogos mais iconicos e amados da história do videogame. Quem não se lembrava de saltar e correr em mundo de Super Mario Bros. em uma NES?\\n\\nVocê é um fã dos jogos de plataforma clássicos de Mario, ou você também gosta dos jogos de estratégia, como Mario Kart ou Mario Party?', additional_kwargs={}, response_metadata={'token_usage': {'completion_tokens': 86, 'prompt_tokens': 17, 'total_tokens': 103, 'completion_time': 0.149635997, 'prompt_time': 0.009521391, 'queue_time': 0.19594488000000002, 'total_time': 0.159157388}, 'model_name': 'llama3-8b-8192', 'system_fingerprint': 'fp_0fb809dba3', 'service_tier': 'on_demand', 'finish_reason': 'stop', 'logprobs': None}, id='run--11435f73-3971-4183-998e-7110c488a6f0-0', usage_metadata={'input_tokens': 17, 'output_tokens': 86, 'total_tokens': 103}), HumanMessage(content='Qual era meu jogo favorito?', additional_kwargs={}, response_metadata={}), AIMessage(content='Você mencionou que o seu jogo favorito é o Mario!', additional_kwargs={}, response_metadata={'token_usage': {'completion_tokens': 15, 'prompt_tokens': 119, 'total_tokens': 134, 'completion_time': 0.010525935, 'prompt_time': 0.021275205, 'queue_time': 0.304756231, 'total_time': 0.03180114}, 'model_name': 'llama3-8b-8192', 'system_fingerprint': 'fp_8dc6ecaf8e', 'service_tier': 'on_demand', 'finish_reason': 'stop', 'logprobs': None}, id='run--ae1af504-cec8-4579-ae1b-3e907c405f09-0', usage_metadata={'input_tokens': 119, 'output_tokens': 15, 'total_tokens': 134})])}\n"
          ]
        }
      ]
    },
    {
      "cell_type": "code",
      "source": [],
      "metadata": {
        "id": "VJ0x0n7OqEUr"
      },
      "execution_count": null,
      "outputs": []
    }
  ]
}